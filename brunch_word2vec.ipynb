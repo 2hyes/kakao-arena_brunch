{
 "metadata": {
  "language_info": {
   "codemirror_mode": {
    "name": "ipython",
    "version": 3
   },
   "file_extension": ".py",
   "mimetype": "text/x-python",
   "name": "python",
   "nbconvert_exporter": "python",
   "pygments_lexer": "ipython3",
   "version": "3.7.7-final"
  },
  "orig_nbformat": 2,
  "kernelspec": {
   "name": "python_defaultSpec_1598589754758",
   "display_name": "Python 3.7.7 64-bit ('tf': conda)"
  }
 },
 "nbformat": 4,
 "nbformat_minor": 2,
 "cells": [
  {
   "cell_type": "code",
   "execution_count": 2,
   "metadata": {},
   "outputs": [],
   "source": [
    "import pandas as pd\n",
    "import numpy as np\n",
    "import re\n",
    "import gensim\n",
    "import torch\n",
    "from sklearn.metrics.pairwise import cosine_similarity, manhattan_distances\n",
    "\n",
    "from collections import Counter"
   ]
  },
  {
   "cell_type": "code",
   "execution_count": 3,
   "metadata": {},
   "outputs": [],
   "source": [
    "metadata = pd.read_csv('./res/metadata.csv')"
   ]
  },
  {
   "cell_type": "code",
   "execution_count": 4,
   "metadata": {},
   "outputs": [],
   "source": [
    "#metadata = metadata.drop(['magazine_id', 'user_id', 'title', 'display_url','sub_title', 'reg_ts', 'article_id', 'id', 'date', 'hour', 'weekday', 'view', 'recent_view'], axis = 1)"
   ]
  },
  {
   "cell_type": "code",
   "execution_count": 5,
   "metadata": {},
   "outputs": [],
   "source": [
    "# Nan값 제거\n",
    "metadata[['article_tag_list']] = metadata[['article_tag_list']].fillna('[]') "
   ]
  },
  {
   "cell_type": "code",
   "execution_count": 6,
   "metadata": {},
   "outputs": [
    {
     "output_type": "execute_result",
     "data": {
      "text/plain": "0"
     },
     "metadata": {},
     "execution_count": 6
    }
   ],
   "source": [
    "# Nan값 제거된 것 확인\n",
    "metadata.article_tag_list.isnull().sum() "
   ]
  },
  {
   "cell_type": "code",
   "execution_count": 7,
   "metadata": {},
   "outputs": [
    {
     "output_type": "execute_result",
     "data": {
      "text/plain": "   magazine_id        user_id                      title  \\\n0       8982.0        @bookdb  사진으로 옮기기에도 아까운, 리치필드 국립공원   \n1      12081.0     @kohwang56                  [시] 서러운 봄   \n2          0.0   @hannahajink                     무엇을 위해   \n3      16315.0  @bryceandjuli                         싫다   \n4      29363.0   @mijeongpark                 Dubliner#7   \n\n          article_tag_list                            display_url  \\\n0     ['여행', '호주', '국립공원']       https://brunch.co.kr/@bookdb/782   \n1    ['목련꽃', '아지랑이', '동행']     https://brunch.co.kr/@kohwang56/81   \n2                       []    https://brunch.co.kr/@hannahajink/4   \n3       ['감정', '마음', '위로']  https://brunch.co.kr/@bryceandjuli/88   \n4  ['유럽여행', '더블린', '아일랜드']   https://brunch.co.kr/@mijeongpark/34   \n\n              sub_title           reg_ts article_id                id  \\\n0  세상 어디에도 없는 호주 Top 10  1474944427000.0        782       @bookdb_782   \n1                   NaN  1463092749000.0         81     @kohwang56_81   \n2                무엇 때문에  1447997287000.0          4    @hannahajink_4   \n3                   NaN  1491055161000.0         88  @bryceandjuli_88   \n4     #7. 내 친구의 집은 어디인가  1523292942000.0         34   @mijeongpark_34   \n\n         date      hour weekday  view  recent_view  \n0  2016-09-27  11:47:07     Tue   0.0          0.0  \n1  2016-05-13  07:39:09     Fri   1.0          1.0  \n2  2015-11-20  14:28:07     Fri   0.0          0.0  \n3  2017-04-01  22:59:21     Sat   2.0          0.0  \n4  2018-04-10  01:55:42     Tue   1.0          0.0  ",
      "text/html": "<div>\n<style scoped>\n    .dataframe tbody tr th:only-of-type {\n        vertical-align: middle;\n    }\n\n    .dataframe tbody tr th {\n        vertical-align: top;\n    }\n\n    .dataframe thead th {\n        text-align: right;\n    }\n</style>\n<table border=\"1\" class=\"dataframe\">\n  <thead>\n    <tr style=\"text-align: right;\">\n      <th></th>\n      <th>magazine_id</th>\n      <th>user_id</th>\n      <th>title</th>\n      <th>article_tag_list</th>\n      <th>display_url</th>\n      <th>sub_title</th>\n      <th>reg_ts</th>\n      <th>article_id</th>\n      <th>id</th>\n      <th>date</th>\n      <th>hour</th>\n      <th>weekday</th>\n      <th>view</th>\n      <th>recent_view</th>\n    </tr>\n  </thead>\n  <tbody>\n    <tr>\n      <th>0</th>\n      <td>8982.0</td>\n      <td>@bookdb</td>\n      <td>사진으로 옮기기에도 아까운, 리치필드 국립공원</td>\n      <td>['여행', '호주', '국립공원']</td>\n      <td>https://brunch.co.kr/@bookdb/782</td>\n      <td>세상 어디에도 없는 호주 Top 10</td>\n      <td>1474944427000.0</td>\n      <td>782</td>\n      <td>@bookdb_782</td>\n      <td>2016-09-27</td>\n      <td>11:47:07</td>\n      <td>Tue</td>\n      <td>0.0</td>\n      <td>0.0</td>\n    </tr>\n    <tr>\n      <th>1</th>\n      <td>12081.0</td>\n      <td>@kohwang56</td>\n      <td>[시] 서러운 봄</td>\n      <td>['목련꽃', '아지랑이', '동행']</td>\n      <td>https://brunch.co.kr/@kohwang56/81</td>\n      <td>NaN</td>\n      <td>1463092749000.0</td>\n      <td>81</td>\n      <td>@kohwang56_81</td>\n      <td>2016-05-13</td>\n      <td>07:39:09</td>\n      <td>Fri</td>\n      <td>1.0</td>\n      <td>1.0</td>\n    </tr>\n    <tr>\n      <th>2</th>\n      <td>0.0</td>\n      <td>@hannahajink</td>\n      <td>무엇을 위해</td>\n      <td>[]</td>\n      <td>https://brunch.co.kr/@hannahajink/4</td>\n      <td>무엇 때문에</td>\n      <td>1447997287000.0</td>\n      <td>4</td>\n      <td>@hannahajink_4</td>\n      <td>2015-11-20</td>\n      <td>14:28:07</td>\n      <td>Fri</td>\n      <td>0.0</td>\n      <td>0.0</td>\n    </tr>\n    <tr>\n      <th>3</th>\n      <td>16315.0</td>\n      <td>@bryceandjuli</td>\n      <td>싫다</td>\n      <td>['감정', '마음', '위로']</td>\n      <td>https://brunch.co.kr/@bryceandjuli/88</td>\n      <td>NaN</td>\n      <td>1491055161000.0</td>\n      <td>88</td>\n      <td>@bryceandjuli_88</td>\n      <td>2017-04-01</td>\n      <td>22:59:21</td>\n      <td>Sat</td>\n      <td>2.0</td>\n      <td>0.0</td>\n    </tr>\n    <tr>\n      <th>4</th>\n      <td>29363.0</td>\n      <td>@mijeongpark</td>\n      <td>Dubliner#7</td>\n      <td>['유럽여행', '더블린', '아일랜드']</td>\n      <td>https://brunch.co.kr/@mijeongpark/34</td>\n      <td>#7. 내 친구의 집은 어디인가</td>\n      <td>1523292942000.0</td>\n      <td>34</td>\n      <td>@mijeongpark_34</td>\n      <td>2018-04-10</td>\n      <td>01:55:42</td>\n      <td>Tue</td>\n      <td>1.0</td>\n      <td>0.0</td>\n    </tr>\n  </tbody>\n</table>\n</div>"
     },
     "metadata": {},
     "execution_count": 7
    }
   ],
   "source": [
    "metadata.head()"
   ]
  },
  {
   "cell_type": "markdown",
   "metadata": {},
   "source": [
    "## metadata preprocessing "
   ]
  },
  {
   "cell_type": "code",
   "execution_count": 8,
   "metadata": {},
   "outputs": [],
   "source": [
    "# \"\"\"\n",
    "# String화된 list -> String의 리스트로 변환\n",
    "# \"\"\"\n",
    "# for i in range(len(metadata)):\n",
    "#     metadata['article_tag_list'][i] = metadata['article_tag_list'][i].replace('[', '')\n",
    "#     metadata['article_tag_list'][i] = metadata['article_tag_list'][i].replace(']', '')\n",
    "#     metadata['article_tag_list'][i] = metadata['article_tag_list'][i].replace(\"'\", '')\n",
    "    \n",
    "#     metadata['article_tag_list'][i] = metadata['article_tag_list'][i].split(',')"
   ]
  },
  {
   "cell_type": "code",
   "execution_count": 422,
   "metadata": {},
   "outputs": [
    {
     "output_type": "execute_result",
     "data": {
      "text/plain": "'여'"
     },
     "metadata": {},
     "execution_count": 422
    }
   ],
   "source": [
    "re.findall(r\"[\\w]+\", metadata['article_tag_list'][0])[0][0]"
   ]
  },
  {
   "cell_type": "code",
   "execution_count": 423,
   "metadata": {},
   "outputs": [],
   "source": [
    "\"\"\"\n",
    "String화된 list -> String의 리스트로 변환\n",
    "\"\"\"\n",
    "for i in range(len(metadata)):\n",
    "    metadata['article_tag_list'][i] = re.findall(r\"[\\w]+\", metadata['article_tag_list'][i])\n",
    "    #for j in range(len(metadata['article_tag_list'][i])):\n",
    "        #metadata['article_tag_list'][i][j] = metadata['article_tag_list'][i][j].replace(\"'\", \"\")\n",
    "        "
   ]
  },
  {
   "cell_type": "code",
   "execution_count": 424,
   "metadata": {},
   "outputs": [
    {
     "output_type": "execute_result",
     "data": {
      "text/plain": "[['여행', '호주', '국립공원'],\n ['목련꽃', '아지랑이', '동행'],\n [],\n ['감정', '마음', '위로'],\n ['유럽여행', '더블린', '아일랜드'],\n ['석유에너지', '베네수엘라', '경제'],\n ['입찰', '유치권', '부동산경매변호사'],\n ['사랑', '연애', 'rain'],\n ['메일', '출판사'],\n ['도시애벌레', '공부', '동시'],\n ['패션', '에세이', '경제'],\n ['불꽃축제', '불꽃', '여의도'],\n ['주머니', '동시', '빵가게'],\n ['생각', '과거', '무시'],\n ['단상', '여행', '생각'],\n ['시험', '아침조회시간'],\n ['감성에세이', '사랑', '첫사랑'],\n ['애견놀이터', '애견', '애견카페'],\n [],\n ['엄마', '취향', '효도'],\n ['칼국수', '대화', '저항'],\n ['세계여행', '여행', '행복'],\n ['버스', '지하철', '친구'],\n ['그림자', '하이에나', '도시'],\n ['자작소설', '창작'],\n ['팀워크', '성과', '개인기'],\n ['브랜드', '브랜딩', '마케팅'],\n ['일자리', '청년실업', '저출산'],\n ['취업', '사회생활', '결혼'],\n [],\n ['장애엄마', '부모교육', '새학기'],\n ['젠트리피케이션', '주거문화', '서울'],\n ['크라쿠프', '소금광산', '유럽여행'],\n ['출판', '사회복지사', '교육'],\n ['승리', '아이돌', '추락'],\n ['문화극장', '극장'],\n ['월요일', '스트레스', '회사'],\n ['드라마', '방송', '방송연예'],\n ['아프리카', '배낭여행', '세계여행'],\n ['세네갈요리', '요리', '세네갈'],\n ['샐러드', '음식', '놀이'],\n ['마늘', '여자', '엄마'],\n ['세상', '이해', '생각'],\n [],\n ['회사', '사람', '생각'],\n ['소설', '서평', '페미니즘'],\n ['캐릭터', '드로잉', '그림'],\n [],\n ['꼬꼬마', '일상', '단편'],\n ['비틀즈', '음악', '앨범'],\n ['싱가포르', '해외취업', '이민'],\n ['영화', '매트릭스', '리뷰'],\n ['인문학', '소프트웨어', '융합'],\n [],\n [],\n ['심리상담', '심리치료', '스트레스'],\n ['마약', '서평', '책소개'],\n ['해외여행', '필리핀', '팔라완'],\n ['운동', '헬스', '건강'],\n ['상표등록', '상표'],\n ['자전거', '잠', '맥주'],\n ['사진', '편집'],\n ['까미노데산티아고', '칠레', '남미여행'],\n ['착각', '신입사원', '성공'],\n ['시', '이별', '위로'],\n [],\n ['상표등록', '상표'],\n ['벌레', '단편'],\n ['장애', '장애인', '가족'],\n ['단독주택', '부동산', '결혼식'],\n ['살구', '어깨', '해설자'],\n ['마음', '향기', '사진일기'],\n ['캠프', '엑스레이'],\n ['추천여행', '노동당사', '강원도'],\n ['사회생활', '사회', '눈치'],\n ['사랑', '남과여', '사람'],\n ['김치', '음식'],\n ['동시', '빵가게'],\n ['그림일기', '반려동물', '웹툰'],\n ['스마트시티', '볼리비아', '산타크루즈'],\n ['유형', '관계', '사람'],\n ['사막', '흐름', '독백'],\n ['미술관', '톨레도', '디트로이트'],\n [],\n ['계절', '패션', '에세이'],\n ['주부', '작가', '직업'],\n ['트렌드', '헤어트렌드', '스타일'],\n [],\n ['편의점', '커피', '담배'],\n ['스타트업', '창업', '인사'],\n ['여행', '사람', '북유럽'],\n ['분홍', '워드', '마음'],\n ['가족나들이', '육아모임', '딸기'],\n ['제이팝', '음악', '일본'],\n ['프랑스', '환경보호운동', '기후변화'],\n ['상표등록', '해외'],\n ['동시', '동화', '빵가게'],\n ['송중기', '늑대소년', '영화'],\n ['슬픔', '자작시', '사랑'],\n ['엔지니어링', '매니저', 'study']]"
     },
     "metadata": {},
     "execution_count": 424
    }
   ],
   "source": [
    "metadata_itemtags = metadata['article_tag_list'].tolist()\n",
    "metadata_itemtags #이중리스트형태"
   ]
  },
  {
   "cell_type": "code",
   "execution_count": 21,
   "metadata": {},
   "outputs": [],
   "source": [
    "\"\"\"\n",
    "태그중에 영어 등장 --> 우선 삭제. . .\n",
    "\"\"\"\n",
    "def isHangul(text):\n",
    "    encText = text\n",
    "    hanCount = len(re.findall(u'[\\u3130-\\u318F\\uAC00-\\uD7A3]+', encText))\n",
    "    return hanCount > 0\n",
    "    "
   ]
  },
  {
   "cell_type": "code",
   "execution_count": 426,
   "metadata": {
    "tags": []
   },
   "outputs": [
    {
     "output_type": "stream",
     "name": "stdout",
     "text": "delete 7 2 rain\ndelete 99 2 study\n"
    }
   ],
   "source": [
    "for i in range(len(metadata_itemtags)):\n",
    "    for j in range(len(metadata_itemtags[i])):\n",
    "        if isHangul(metadata_itemtags[i][j]) == False:\n",
    "            print(\"delete\", i, j, metadata_itemtags[i][j])\n",
    "            del metadata_itemtags[i][j]"
   ]
  },
  {
   "cell_type": "code",
   "execution_count": 427,
   "metadata": {},
   "outputs": [
    {
     "output_type": "execute_result",
     "data": {
      "text/plain": "[['여행', '호주', '국립공원'],\n ['목련꽃', '아지랑이', '동행'],\n [],\n ['감정', '마음', '위로'],\n ['유럽여행', '더블린', '아일랜드'],\n ['석유에너지', '베네수엘라', '경제'],\n ['입찰', '유치권', '부동산경매변호사'],\n ['사랑', '연애'],\n ['메일', '출판사'],\n ['도시애벌레', '공부', '동시'],\n ['패션', '에세이', '경제'],\n ['불꽃축제', '불꽃', '여의도'],\n ['주머니', '동시', '빵가게'],\n ['생각', '과거', '무시'],\n ['단상', '여행', '생각'],\n ['시험', '아침조회시간'],\n ['감성에세이', '사랑', '첫사랑'],\n ['애견놀이터', '애견', '애견카페'],\n [],\n ['엄마', '취향', '효도'],\n ['칼국수', '대화', '저항'],\n ['세계여행', '여행', '행복'],\n ['버스', '지하철', '친구'],\n ['그림자', '하이에나', '도시'],\n ['자작소설', '창작'],\n ['팀워크', '성과', '개인기'],\n ['브랜드', '브랜딩', '마케팅'],\n ['일자리', '청년실업', '저출산'],\n ['취업', '사회생활', '결혼'],\n [],\n ['장애엄마', '부모교육', '새학기'],\n ['젠트리피케이션', '주거문화', '서울'],\n ['크라쿠프', '소금광산', '유럽여행'],\n ['출판', '사회복지사', '교육'],\n ['승리', '아이돌', '추락'],\n ['문화극장', '극장'],\n ['월요일', '스트레스', '회사'],\n ['드라마', '방송', '방송연예'],\n ['아프리카', '배낭여행', '세계여행'],\n ['세네갈요리', '요리', '세네갈'],\n ['샐러드', '음식', '놀이'],\n ['마늘', '여자', '엄마'],\n ['세상', '이해', '생각'],\n [],\n ['회사', '사람', '생각'],\n ['소설', '서평', '페미니즘'],\n ['캐릭터', '드로잉', '그림'],\n [],\n ['꼬꼬마', '일상', '단편'],\n ['비틀즈', '음악', '앨범'],\n ['싱가포르', '해외취업', '이민'],\n ['영화', '매트릭스', '리뷰'],\n ['인문학', '소프트웨어', '융합'],\n [],\n [],\n ['심리상담', '심리치료', '스트레스'],\n ['마약', '서평', '책소개'],\n ['해외여행', '필리핀', '팔라완'],\n ['운동', '헬스', '건강'],\n ['상표등록', '상표'],\n ['자전거', '잠', '맥주'],\n ['사진', '편집'],\n ['까미노데산티아고', '칠레', '남미여행'],\n ['착각', '신입사원', '성공'],\n ['시', '이별', '위로'],\n [],\n ['상표등록', '상표'],\n ['벌레', '단편'],\n ['장애', '장애인', '가족'],\n ['단독주택', '부동산', '결혼식'],\n ['살구', '어깨', '해설자'],\n ['마음', '향기', '사진일기'],\n ['캠프', '엑스레이'],\n ['추천여행', '노동당사', '강원도'],\n ['사회생활', '사회', '눈치'],\n ['사랑', '남과여', '사람'],\n ['김치', '음식'],\n ['동시', '빵가게'],\n ['그림일기', '반려동물', '웹툰'],\n ['스마트시티', '볼리비아', '산타크루즈'],\n ['유형', '관계', '사람'],\n ['사막', '흐름', '독백'],\n ['미술관', '톨레도', '디트로이트'],\n [],\n ['계절', '패션', '에세이'],\n ['주부', '작가', '직업'],\n ['트렌드', '헤어트렌드', '스타일'],\n [],\n ['편의점', '커피', '담배'],\n ['스타트업', '창업', '인사'],\n ['여행', '사람', '북유럽'],\n ['분홍', '워드', '마음'],\n ['가족나들이', '육아모임', '딸기'],\n ['제이팝', '음악', '일본'],\n ['프랑스', '환경보호운동', '기후변화'],\n ['상표등록', '해외'],\n ['동시', '동화', '빵가게'],\n ['송중기', '늑대소년', '영화'],\n ['슬픔', '자작시', '사랑'],\n ['엔지니어링', '매니저']]"
     },
     "metadata": {},
     "execution_count": 427
    }
   ],
   "source": [
    "# 영어 삭제되었음.\n",
    "metadata_itemtags"
   ]
  },
  {
   "cell_type": "markdown",
   "metadata": {},
   "source": [
    "## model load"
   ]
  },
  {
   "cell_type": "code",
   "execution_count": 428,
   "metadata": {},
   "outputs": [],
   "source": [
    "ko_model = gensim.models.Word2Vec.load('./ko/ko.bin')"
   ]
  },
  {
   "cell_type": "code",
   "execution_count": 430,
   "metadata": {},
   "outputs": [],
   "source": [
    "\"\"\"\n",
    "wv.vocab에 없는 경우\n",
    "--> 형태소 분석 / 삭제 (우선 삭제 후 진행)\n",
    "\"\"\"\n",
    "metadata_itemtags_after=[]\n",
    "for i in range(len(metadata_itemtags)):\n",
    "    metadata_itemtags_after.append([])\n",
    "    for j in range(len(metadata_itemtags[i])):\n",
    "        if metadata_itemtags[i][j] not in ko_model.wv.vocab:\n",
    "            continue\n",
    "        metadata_itemtags_after[i].append(metadata_itemtags[i][j])"
   ]
  },
  {
   "cell_type": "code",
   "execution_count": 431,
   "metadata": {},
   "outputs": [
    {
     "output_type": "execute_result",
     "data": {
      "text/plain": "[['여행', '호주', '국립공원'],\n ['동행'],\n [],\n ['감정', '마음', '위로'],\n ['더블린', '아일랜드'],\n ['경제'],\n ['입찰', '유치권'],\n ['사랑', '연애'],\n ['메일', '출판사'],\n ['공부', '동시'],\n ['패션', '에세이', '경제'],\n ['불꽃', '여의도'],\n ['주머니', '동시'],\n ['생각', '과거', '무시'],\n ['단상', '여행', '생각'],\n ['시험'],\n ['사랑', '첫사랑'],\n ['애견'],\n [],\n ['엄마', '취향', '효도'],\n ['대화', '저항'],\n ['여행', '행복'],\n ['버스', '지하철', '친구'],\n ['그림자', '하이에나', '도시'],\n ['창작'],\n ['성과'],\n ['브랜드', '마케팅'],\n ['일자리'],\n ['취업', '사회생활', '결혼'],\n [],\n [],\n ['서울'],\n [],\n ['출판', '교육'],\n ['승리', '추락'],\n ['극장'],\n ['월요일', '스트레스', '회사'],\n ['드라마', '방송'],\n ['아프리카'],\n ['요리', '세네갈'],\n ['샐러드', '음식', '놀이'],\n ['마늘', '여자', '엄마'],\n ['세상', '이해', '생각'],\n [],\n ['회사', '사람', '생각'],\n ['소설', '서평', '페미니즘'],\n ['캐릭터', '드로잉', '그림'],\n [],\n ['일상', '단편'],\n ['비틀즈', '음악', '앨범'],\n ['싱가포르', '이민'],\n ['영화', '매트릭스', '리뷰'],\n ['인문학', '소프트웨어', '융합'],\n [],\n [],\n ['스트레스'],\n ['마약', '서평'],\n ['필리핀'],\n ['운동', '헬스', '건강'],\n ['상표'],\n ['자전거', '잠', '맥주'],\n ['사진', '편집'],\n [],\n ['착각', '성공'],\n ['시', '이별', '위로'],\n [],\n ['상표'],\n ['벌레', '단편'],\n ['장애', '장애인', '가족'],\n ['부동산', '결혼식'],\n ['살구', '어깨', '해설자'],\n ['마음', '향기'],\n ['캠프'],\n ['강원도'],\n ['사회생활', '사회', '눈치'],\n ['사랑', '사람'],\n ['김치', '음식'],\n ['동시'],\n ['웹툰'],\n [],\n ['유형', '관계', '사람'],\n ['사막', '흐름', '독백'],\n ['미술관', '톨레도', '디트로이트'],\n [],\n ['계절', '패션', '에세이'],\n ['주부', '작가', '직업'],\n ['트렌드', '스타일'],\n [],\n ['편의점', '커피', '담배'],\n ['창업', '인사'],\n ['여행', '사람', '북유럽'],\n ['분홍', '워드', '마음'],\n ['딸기'],\n ['음악', '일본'],\n ['프랑스'],\n ['해외'],\n ['동시', '동화'],\n ['영화'],\n ['슬픔', '사랑'],\n ['엔지니어링', '매니저']]"
     },
     "metadata": {},
     "execution_count": 431
    }
   ],
   "source": [
    "# 목련꽃, 부동산경매변호사 등 삭제되었음\n",
    "metadata_itemtags_after"
   ]
  },
  {
   "cell_type": "code",
   "execution_count": 277,
   "metadata": {
    "tags": []
   },
   "outputs": [
    {
     "output_type": "execute_result",
     "data": {
      "text/plain": "[('항해', 0.6019408702850342),\n ('탐험', 0.5845087766647339),\n ('여행자', 0.5578233003616333),\n ('체류', 0.5551777482032776),\n ('방문', 0.5392764806747437),\n ('여정', 0.5236952900886536),\n ('순방', 0.5188455581665039),\n ('유람', 0.5148690938949585),\n ('돌아다니', 0.5122349262237549),\n ('하이킹', 0.48751986026763916)]"
     },
     "metadata": {},
     "execution_count": 277
    }
   ],
   "source": [
    "ko_model.wv.most_similar(\"여행\")\n"
   ]
  },
  {
   "cell_type": "code",
   "execution_count": 17,
   "metadata": {},
   "outputs": [
    {
     "output_type": "execute_result",
     "data": {
      "text/plain": "array([-0.22261088, -0.3179489 , -0.31348732,  0.30306804,  1.072162  ,\n        0.71200967, -0.35552275,  2.8992279 ,  0.3236653 , -2.0428343 ,\n        1.5717347 ,  0.39062178,  1.3248582 ,  1.0042733 , -1.1683393 ,\n       -1.1125335 ,  1.1176921 ,  0.0915822 , -0.15841556,  1.1593411 ,\n        0.04707694, -0.5005447 ,  0.814857  , -0.64887893,  0.4252706 ,\n       -2.3010507 ,  0.29640567,  0.7389912 , -1.4511623 ,  0.1264299 ,\n        0.6729722 , -2.0054646 ,  1.3086209 , -1.9933537 ,  2.0497043 ,\n        0.03216873, -2.1521363 ,  1.1799654 , -0.63337827,  0.36581668,\n        0.20355628, -0.15857908,  0.69844157, -1.1080979 , -1.4903637 ,\n       -0.8328029 ,  0.7670144 , -2.2677085 , -1.519313  ,  0.4455183 ,\n        2.7102494 , -0.08926437,  0.41304168, -0.04969173, -0.10132965,\n       -3.5819385 ,  0.12846859, -1.333964  , -0.3622299 ,  1.9693674 ,\n       -0.77796155, -0.67008424, -0.67353237,  1.0405833 , -0.3379165 ,\n       -0.07150173, -0.5487609 , -0.1970717 ,  1.005932  , -0.11209817,\n        0.7832348 ,  0.62849915,  0.47478518, -1.2918135 ,  0.8212853 ,\n       -0.5629377 ,  0.06384472, -1.1332088 ,  0.28660685, -1.9297335 ,\n        0.48605356, -1.730347  , -0.5406189 , -1.1268412 , -2.012829  ,\n       -1.2188401 ,  0.2982907 ,  0.9202718 , -0.73744076,  1.6965327 ,\n        0.6914768 , -0.6628694 ,  2.6276848 , -1.1045355 , -0.06290404,\n        1.2445751 ,  0.13600181,  0.08706568, -0.15293324,  0.11614472,\n       -1.553894  , -0.18527982,  0.7716179 , -0.73562324, -0.6889339 ,\n        2.386588  , -0.91046125,  0.31574756, -2.5590596 , -0.7750315 ,\n        0.16690512, -2.3042936 ,  1.3979365 ,  1.6883138 , -0.92855084,\n        0.33707258,  0.37512052,  1.5826766 , -0.02158893, -0.826011  ,\n        1.0982682 , -1.3840567 , -0.11389133, -1.2287675 , -0.8233931 ,\n       -0.442303  , -0.500511  , -0.85124665,  0.43303707,  0.502507  ,\n        0.9465274 , -1.0562795 ,  0.4405126 ,  0.38732666, -0.35476497,\n       -2.6621103 ,  1.6200346 , -0.688477  ,  2.2760556 , -0.26133358,\n       -0.54947084,  1.7417783 ,  1.605084  ,  0.14303876, -2.0292785 ,\n       -0.20389487, -1.8840168 ,  2.4256296 , -0.5015765 , -2.1342812 ,\n       -0.79354423, -0.530237  , -0.06131643,  0.40679204,  0.14047174,\n       -0.5875589 , -0.5661139 ,  0.1741778 , -0.7080608 ,  0.26820052,\n        0.40063602, -0.7276833 ,  1.5324191 , -0.45858   ,  1.0189453 ,\n       -2.8828073 ,  0.5033885 , -1.5916739 ,  0.09158244,  2.741362  ,\n        0.2863246 , -2.0177298 , -0.5836804 ,  0.01175408, -2.368928  ,\n        0.35041007,  1.1244946 , -0.37830916,  1.3050417 ,  1.7618926 ,\n        0.5210916 , -0.4245271 ,  0.7070192 , -0.6646974 , -0.85878587,\n        1.359718  , -0.9192339 , -2.1446247 ,  2.291155  , -1.0469321 ,\n       -0.21095446,  1.7639356 , -0.42622748,  0.30592164, -0.20505461,\n        1.4454805 , -0.38970652, -0.20594427,  0.24101813, -1.5989382 ],\n      dtype=float32)"
     },
     "metadata": {},
     "execution_count": 17
    }
   ],
   "source": [
    "\"\"\"\n",
    "word -> vector practice code\n",
    "\"\"\"\n",
    "#ko_model.wv.get_vector('여행')\n",
    "#ko_model.wv.get_vector(tags[0][0])\n",
    "ko_model.wv[tags[0][0]]"
   ]
  },
  {
   "cell_type": "code",
   "execution_count": 18,
   "metadata": {},
   "outputs": [],
   "source": [
    "# 각 단어가 200차원의 벡터형태. 그 단어 (보통) 3개가 리스트형태로 묶인 것이 태그. \n",
    "# 그 태그는 클러스터 한개로 생각할 수 있음\n",
    "# 우선 클러스터 centroid끼리의 계산\n"
   ]
  },
  {
   "cell_type": "code",
   "execution_count": 432,
   "metadata": {
    "tags": []
   },
   "outputs": [
    {
     "output_type": "stream",
     "name": "stdout",
     "text": "torch.Size([100, 200])\n"
    }
   ],
   "source": [
    "\"\"\"\n",
    "cluster_centroid = torch.zeros(4,200)\n",
    "for i in range(len(tags)):# 0 ~ 9 태그 인덱스\n",
    "    centroid = torch.zeros(200)\n",
    "    for j in range(len(tags[i])): # 각 태그의 길이\n",
    "        # 단어->벡터\n",
    "        tmp = torch.tensor(ko_model.wv.get_vector(tags[i][j])) \n",
    "        centroid = (centroid + tmp) / len(tags[i])\n",
    "        if j == len(tags[i]) - 1: #마지막 태그일 때\n",
    "            print(tags[i])\n",
    "            print(centroid)\n",
    "            cluster_centroid[i] = centroid\n",
    "\n",
    "\"\"\"\n",
    "\"\"\"\n",
    "각 글에서 tag하나하나를 vector, 그 vector들을 모아서 cluster\n",
    "-->중심연결법 사용을 위해 cluster centroid 구함\n",
    "\"\"\"\n",
    "centroid = torch.zeros(len(metadata_itemtags_after), 200)\n",
    "\n",
    "for i in range(len(metadata_itemtags_after)):\n",
    "    if metadata_itemtags_after[i] == []:\n",
    "        continue\n",
    "    # 태그에 있는 단어들을 한번에 vector화\n",
    "    tmp = torch.Tensor(ko_model.wv[metadata_itemtags_after[i]])\n",
    "    centroid[i] = tmp.mean(dim=0)\n",
    "    #print(tags_after[i])\n",
    "print(centroid.shape)"
   ]
  },
  {
   "cell_type": "code",
   "execution_count": 433,
   "metadata": {},
   "outputs": [],
   "source": [
    "\"\"\"\n",
    "pairwise하게 유사도 계산\n",
    "\"\"\"\n",
    "#cos_sim = cosine_similarity(centroid,centroid)\n",
    "man_dis = manhattan_distances(centroid,centroid)\n",
    "#cos_sim.shape # centroid끼리 유사도 계산"
   ]
  },
  {
   "cell_type": "code",
   "execution_count": 434,
   "metadata": {},
   "outputs": [
    {
     "output_type": "execute_result",
     "data": {
      "text/plain": "array([[  0.        , 149.20947688, 112.82483077, ..., 207.77365804,\n        187.19069154, 130.37945352],\n       [149.20947688,   0.        , 121.85711063, ..., 235.52980979,\n        183.40702869, 145.05453866],\n       [112.82483077, 121.85711063,   0.        , ..., 200.16047874,\n        161.00097245,  82.438185  ],\n       ...,\n       [207.77365804, 235.52980979, 200.16047874, ...,   0.        ,\n        231.4017977 , 185.24701834],\n       [187.19069154, 183.40702869, 161.00097245, ..., 231.4017977 ,\n          0.        , 187.88736517],\n       [130.37945352, 145.05453866,  82.438185  , ..., 185.24701834,\n        187.88736517,   0.        ]])"
     },
     "metadata": {},
     "execution_count": 434
    }
   ],
   "source": [
    "man_dis"
   ]
  },
  {
   "cell_type": "code",
   "execution_count": 281,
   "metadata": {},
   "outputs": [
    {
     "output_type": "execute_result",
     "data": {
      "text/plain": "array([[ 0.0000000e+00,  8.4826541e-01,  1.0000000e+00,  1.0500790e+00,\n         6.7981523e-01,  9.0501100e-01,  9.4869882e-01,  9.2221779e-01,\n         8.6557925e-01,  9.0703732e-01],\n       [ 8.4826541e-01, -1.1920929e-07,  1.0000000e+00,  8.4974837e-01,\n         9.3642890e-01,  1.1591481e+00,  8.7549108e-01,  7.8046668e-01,\n         9.7663021e-01,  6.5034544e-01],\n       [ 1.0000000e+00,  1.0000000e+00,  1.0000000e+00,  1.0000000e+00,\n         1.0000000e+00,  1.0000000e+00,  1.0000000e+00,  1.0000000e+00,\n         1.0000000e+00,  1.0000000e+00],\n       [ 1.0500790e+00,  8.4974837e-01,  1.0000000e+00, -1.1920929e-07,\n         1.1038097e+00,  1.0330408e+00,  9.4942051e-01,  4.3633014e-01,\n         9.9832988e-01,  7.7558118e-01],\n       [ 6.7981523e-01,  9.3642890e-01,  1.0000000e+00,  1.1038097e+00,\n         0.0000000e+00,  9.7752172e-01,  1.1386645e+00,  9.6804923e-01,\n         9.5175415e-01,  9.3178588e-01],\n       [ 9.0501100e-01,  1.1591481e+00,  1.0000000e+00,  1.0330408e+00,\n         9.7752172e-01,  0.0000000e+00,  8.8415796e-01,  9.8971063e-01,\n         1.0459721e+00,  9.0957224e-01],\n       [ 9.4869882e-01,  8.7549108e-01,  1.0000000e+00,  9.4942051e-01,\n         1.1386645e+00,  8.8415796e-01,  0.0000000e+00,  1.0810848e+00,\n         8.4317148e-01,  9.1109014e-01],\n       [ 9.2221779e-01,  7.8046668e-01,  1.0000000e+00,  4.3633014e-01,\n         9.6804923e-01,  9.8971063e-01,  1.0810848e+00, -1.1920929e-07,\n         8.5856742e-01,  7.7224904e-01],\n       [ 8.6557919e-01,  9.7663021e-01,  1.0000000e+00,  9.9832988e-01,\n         9.5175415e-01,  1.0459721e+00,  8.4317148e-01,  8.5856742e-01,\n         1.1920929e-07,  8.8564783e-01],\n       [ 9.0703732e-01,  6.5034550e-01,  1.0000000e+00,  7.7558118e-01,\n         9.3178588e-01,  9.0957224e-01,  9.1109014e-01,  7.7224904e-01,\n         8.8564783e-01,  1.1920929e-07]], dtype=float32)"
     },
     "metadata": {},
     "execution_count": 281
    }
   ],
   "source": [
    "cos_sim = 1 - cos_sim\n",
    "cos_sim"
   ]
  },
  {
   "cell_type": "code",
   "execution_count": 435,
   "metadata": {},
   "outputs": [
    {
     "output_type": "execute_result",
     "data": {
      "text/plain": "4"
     },
     "metadata": {},
     "execution_count": 435
    }
   ],
   "source": [
    "# 타겟 글(0번)과 가장 유사한 글 = 4번째 인덱스\n",
    "similar_index = (np.where(cos_sim[0] == sorted(cos_sim[0])[1]))[0][0]\n",
    "similar_index"
   ]
  },
  {
   "cell_type": "code",
   "execution_count": 436,
   "metadata": {
    "tags": []
   },
   "outputs": [
    {
     "output_type": "stream",
     "name": "stdout",
     "text": "[4, 1, 8]\n"
    }
   ],
   "source": [
    "# 비슷한 글 3개 추천\n",
    "similarity_rank_index = []\n",
    "for rank in range(1,4):\n",
    "    similarity_rank_index.append((np.where(cos_sim[0] == sorted(cos_sim[0])[rank]))[0][0])\n",
    "print(similarity_rank_index)"
   ]
  },
  {
   "cell_type": "code",
   "execution_count": 438,
   "metadata": {},
   "outputs": [
    {
     "output_type": "execute_result",
     "data": {
      "text/plain": "   magazine_id       user_id        title   article_tag_list  \\\n4      29363.0  @mijeongpark   Dubliner#7  [유럽여행, 더블린, 아일랜드]   \n1      12081.0    @kohwang56    [시] 서러운 봄    [목련꽃, 아지랑이, 동행]   \n8      28849.0    @elang8151  출간제의 받았습니다.          [메일, 출판사]   \n\n                            display_url          sub_title           reg_ts  \\\n4  https://brunch.co.kr/@mijeongpark/34  #7. 내 친구의 집은 어디인가  1523292942000.0   \n1    https://brunch.co.kr/@kohwang56/81                NaN  1463092749000.0   \n8   https://brunch.co.kr/@elang8151/229    미안하지만 아직 학생입니다.  1539405177000.0   \n\n  article_id               id        date      hour weekday   view  \\\n4         34  @mijeongpark_34  2018-04-10  01:55:42     Tue    1.0   \n1         81    @kohwang56_81  2016-05-13  07:39:09     Fri    1.0   \n8        229   @elang8151_229  2018-10-13  13:32:57     Sat  128.0   \n\n   recent_view  \n4          0.0  \n1          1.0  \n8          0.0  ",
      "text/html": "<div>\n<style scoped>\n    .dataframe tbody tr th:only-of-type {\n        vertical-align: middle;\n    }\n\n    .dataframe tbody tr th {\n        vertical-align: top;\n    }\n\n    .dataframe thead th {\n        text-align: right;\n    }\n</style>\n<table border=\"1\" class=\"dataframe\">\n  <thead>\n    <tr style=\"text-align: right;\">\n      <th></th>\n      <th>magazine_id</th>\n      <th>user_id</th>\n      <th>title</th>\n      <th>article_tag_list</th>\n      <th>display_url</th>\n      <th>sub_title</th>\n      <th>reg_ts</th>\n      <th>article_id</th>\n      <th>id</th>\n      <th>date</th>\n      <th>hour</th>\n      <th>weekday</th>\n      <th>view</th>\n      <th>recent_view</th>\n    </tr>\n  </thead>\n  <tbody>\n    <tr>\n      <th>4</th>\n      <td>29363.0</td>\n      <td>@mijeongpark</td>\n      <td>Dubliner#7</td>\n      <td>[유럽여행, 더블린, 아일랜드]</td>\n      <td>https://brunch.co.kr/@mijeongpark/34</td>\n      <td>#7. 내 친구의 집은 어디인가</td>\n      <td>1523292942000.0</td>\n      <td>34</td>\n      <td>@mijeongpark_34</td>\n      <td>2018-04-10</td>\n      <td>01:55:42</td>\n      <td>Tue</td>\n      <td>1.0</td>\n      <td>0.0</td>\n    </tr>\n    <tr>\n      <th>1</th>\n      <td>12081.0</td>\n      <td>@kohwang56</td>\n      <td>[시] 서러운 봄</td>\n      <td>[목련꽃, 아지랑이, 동행]</td>\n      <td>https://brunch.co.kr/@kohwang56/81</td>\n      <td>NaN</td>\n      <td>1463092749000.0</td>\n      <td>81</td>\n      <td>@kohwang56_81</td>\n      <td>2016-05-13</td>\n      <td>07:39:09</td>\n      <td>Fri</td>\n      <td>1.0</td>\n      <td>1.0</td>\n    </tr>\n    <tr>\n      <th>8</th>\n      <td>28849.0</td>\n      <td>@elang8151</td>\n      <td>출간제의 받았습니다.</td>\n      <td>[메일, 출판사]</td>\n      <td>https://brunch.co.kr/@elang8151/229</td>\n      <td>미안하지만 아직 학생입니다.</td>\n      <td>1539405177000.0</td>\n      <td>229</td>\n      <td>@elang8151_229</td>\n      <td>2018-10-13</td>\n      <td>13:32:57</td>\n      <td>Sat</td>\n      <td>128.0</td>\n      <td>0.0</td>\n    </tr>\n  </tbody>\n</table>\n</div>"
     },
     "metadata": {},
     "execution_count": 438
    }
   ],
   "source": [
    "metadata.iloc[similarity_rank_index]"
   ]
  },
  {
   "cell_type": "markdown",
   "metadata": {},
   "source": [
    "# 궁극적으로 하고자하는 것 = dev.users/test.users의 타겟 유저가 읽었던 글 과 비슷한 글을 찾고자함."
   ]
  },
  {
   "cell_type": "code",
   "execution_count": 8,
   "metadata": {},
   "outputs": [],
   "source": [
    "#### dev.users --> target_df"
   ]
  },
  {
   "cell_type": "code",
   "execution_count": 41,
   "metadata": {},
   "outputs": [
    {
     "output_type": "execute_result",
     "data": {
      "text/plain": "                                        keyword_list  \\\n0                                                 []   \n1                                                 []   \n2                                                 []   \n3                                                 []   \n4  [{'cnt': 1, 'keyword': '6년차'}, {'cnt': 2, 'key...   \n\n                                      following_list  \\\n0  ['@potatohands', '@ggpodori', '@chae-pulib', '...   \n1  ['@seochogirl', '@cloudocloud', '@youngmusic',...   \n2  ['@merryseo', '@workerhanee', '@daltokki', '@h...   \n3  ['@withssum', '@yooatic84', '@hoteller', '@let...   \n4  ['@jjollae', '@seanseda', '@munchi', '@yoonsol...   \n\n                             user_id  following_cnt  following_cnt_rank  \\\n0  #a6f7a5ff90a19ec4d583f0db1836844d           53.0               523.0   \n1  #0303a4d2ad9570cfb4d1658b684ad08b          140.0               436.0   \n2  #6516c871163aeafd8a51d5db44148aca            4.0               572.0   \n3  #c4161080cbad8739f8f5ae92e8839250            6.0               570.0   \n4  #b757e6adac7edfb445ac8c776b1d02bc           39.0               537.0   \n\n                                                read  \\\n0  ['@bookguru_31', '@backkoo_101', '@theedit_546...   \n1  ['@minsungdkim_222', '@minsungdkim_223', '@min...   \n2  ['@workerhanee_258', '@taekangk_62', '@taekang...   \n3  ['@psychiatricnews_124', '@psychiatricnews_125...   \n4  ['@makebotai_4', '@kakao-it_187', '@bellrings_...   \n\n                                              recent recent_following  \\\n0  ['@daljasee_222', '@shindong_38', '@daljasee_2...        {'': 177}   \n1  ['@youngmusic_54', '@soandso_77', '@seochogirl...         {'': 51}   \n2  ['@workerhanee_258', '@taekangk_62', '@workerh...         {'': 13}   \n3  ['@tamarorim_101', '@tamarorim_100', '@tamaror...        {'': 142}   \n4  ['@tamarorim_135', '@tamarorim_136', '@zagni_2...          {'': 3}   \n\n                                     recent_magazine  \\\n0  Counter({8274.0: 9, 38306.0: 4, 40519.0: 3, 33...   \n1  Counter({12804.0: 3, 24781.0: 2, 36426.0: 2, 4...   \n2  Counter({26129.0: 2, 37613.0: 2, 34075.0: 1, 3...   \n3  Counter({34975.0: 10, 40258.0: 5, 39067.0: 5, ...   \n4                   Counter({4905.0: 2, 24941.0: 1})   \n\n                                          recent_tag  \\\n0  Counter({'[]': 4, \"['연애', '감정', '사랑']\": 1, \"['...   \n1  Counter({\"['연애', '사랑', '이별']\": 1, \"['입학', '준비'...   \n2  Counter({\"['퇴사', '일러스트', '에세이']\": 1, \"['공감에세이'...   \n3  Counter({'[]': 5, \"['심리', '치유', '에세이']\": 2, \"[...   \n4  Counter({\"['신혼부부', '신혼여행']\": 1, '[]': 1, \"['좋은...   \n\n                                     recent_interest  recent_f_ratio  \\\n0  ['[]', \"['연애', '감정', '사랑']\", \"['기획', '회사', '전략...             1.0   \n1  [\"['연애', '사랑', '이별']\", \"['입학', '준비', '육아']\", \"...             1.0   \n2  [\"['퇴사', '일러스트', '에세이']\", \"['공감에세이', '육아에세이', ...             1.0   \n3  ['[]', \"['심리', '치유', '에세이']\", \"['디자인', '표지']\",...             1.0   \n4  [\"['신혼부부', '신혼여행']\", '[]', \"['좋은글', '팟캐스트', '정...             1.0   \n\n   recent_m_ratio  recent_p_ratio  recent_r_ratio  \n0            0.56            0.96            0.23  \n1            0.47            0.82            0.76  \n2            0.54            0.77            0.46  \n3            0.29            0.94            0.11  \n4            1.00            1.00            0.00  ",
      "text/html": "<div>\n<style scoped>\n    .dataframe tbody tr th:only-of-type {\n        vertical-align: middle;\n    }\n\n    .dataframe tbody tr th {\n        vertical-align: top;\n    }\n\n    .dataframe thead th {\n        text-align: right;\n    }\n</style>\n<table border=\"1\" class=\"dataframe\">\n  <thead>\n    <tr style=\"text-align: right;\">\n      <th></th>\n      <th>keyword_list</th>\n      <th>following_list</th>\n      <th>user_id</th>\n      <th>following_cnt</th>\n      <th>following_cnt_rank</th>\n      <th>read</th>\n      <th>recent</th>\n      <th>recent_following</th>\n      <th>recent_magazine</th>\n      <th>recent_tag</th>\n      <th>recent_interest</th>\n      <th>recent_f_ratio</th>\n      <th>recent_m_ratio</th>\n      <th>recent_p_ratio</th>\n      <th>recent_r_ratio</th>\n    </tr>\n  </thead>\n  <tbody>\n    <tr>\n      <th>0</th>\n      <td>[]</td>\n      <td>['@potatohands', '@ggpodori', '@chae-pulib', '...</td>\n      <td>#a6f7a5ff90a19ec4d583f0db1836844d</td>\n      <td>53.0</td>\n      <td>523.0</td>\n      <td>['@bookguru_31', '@backkoo_101', '@theedit_546...</td>\n      <td>['@daljasee_222', '@shindong_38', '@daljasee_2...</td>\n      <td>{'': 177}</td>\n      <td>Counter({8274.0: 9, 38306.0: 4, 40519.0: 3, 33...</td>\n      <td>Counter({'[]': 4, \"['연애', '감정', '사랑']\": 1, \"['...</td>\n      <td>['[]', \"['연애', '감정', '사랑']\", \"['기획', '회사', '전략...</td>\n      <td>1.0</td>\n      <td>0.56</td>\n      <td>0.96</td>\n      <td>0.23</td>\n    </tr>\n    <tr>\n      <th>1</th>\n      <td>[]</td>\n      <td>['@seochogirl', '@cloudocloud', '@youngmusic',...</td>\n      <td>#0303a4d2ad9570cfb4d1658b684ad08b</td>\n      <td>140.0</td>\n      <td>436.0</td>\n      <td>['@minsungdkim_222', '@minsungdkim_223', '@min...</td>\n      <td>['@youngmusic_54', '@soandso_77', '@seochogirl...</td>\n      <td>{'': 51}</td>\n      <td>Counter({12804.0: 3, 24781.0: 2, 36426.0: 2, 4...</td>\n      <td>Counter({\"['연애', '사랑', '이별']\": 1, \"['입학', '준비'...</td>\n      <td>[\"['연애', '사랑', '이별']\", \"['입학', '준비', '육아']\", \"...</td>\n      <td>1.0</td>\n      <td>0.47</td>\n      <td>0.82</td>\n      <td>0.76</td>\n    </tr>\n    <tr>\n      <th>2</th>\n      <td>[]</td>\n      <td>['@merryseo', '@workerhanee', '@daltokki', '@h...</td>\n      <td>#6516c871163aeafd8a51d5db44148aca</td>\n      <td>4.0</td>\n      <td>572.0</td>\n      <td>['@workerhanee_258', '@taekangk_62', '@taekang...</td>\n      <td>['@workerhanee_258', '@taekangk_62', '@workerh...</td>\n      <td>{'': 13}</td>\n      <td>Counter({26129.0: 2, 37613.0: 2, 34075.0: 1, 3...</td>\n      <td>Counter({\"['퇴사', '일러스트', '에세이']\": 1, \"['공감에세이'...</td>\n      <td>[\"['퇴사', '일러스트', '에세이']\", \"['공감에세이', '육아에세이', ...</td>\n      <td>1.0</td>\n      <td>0.54</td>\n      <td>0.77</td>\n      <td>0.46</td>\n    </tr>\n    <tr>\n      <th>3</th>\n      <td>[]</td>\n      <td>['@withssum', '@yooatic84', '@hoteller', '@let...</td>\n      <td>#c4161080cbad8739f8f5ae92e8839250</td>\n      <td>6.0</td>\n      <td>570.0</td>\n      <td>['@psychiatricnews_124', '@psychiatricnews_125...</td>\n      <td>['@tamarorim_101', '@tamarorim_100', '@tamaror...</td>\n      <td>{'': 142}</td>\n      <td>Counter({34975.0: 10, 40258.0: 5, 39067.0: 5, ...</td>\n      <td>Counter({'[]': 5, \"['심리', '치유', '에세이']\": 2, \"[...</td>\n      <td>['[]', \"['심리', '치유', '에세이']\", \"['디자인', '표지']\",...</td>\n      <td>1.0</td>\n      <td>0.29</td>\n      <td>0.94</td>\n      <td>0.11</td>\n    </tr>\n    <tr>\n      <th>4</th>\n      <td>[{'cnt': 1, 'keyword': '6년차'}, {'cnt': 2, 'key...</td>\n      <td>['@jjollae', '@seanseda', '@munchi', '@yoonsol...</td>\n      <td>#b757e6adac7edfb445ac8c776b1d02bc</td>\n      <td>39.0</td>\n      <td>537.0</td>\n      <td>['@makebotai_4', '@kakao-it_187', '@bellrings_...</td>\n      <td>['@tamarorim_135', '@tamarorim_136', '@zagni_2...</td>\n      <td>{'': 3}</td>\n      <td>Counter({4905.0: 2, 24941.0: 1})</td>\n      <td>Counter({\"['신혼부부', '신혼여행']\": 1, '[]': 1, \"['좋은...</td>\n      <td>[\"['신혼부부', '신혼여행']\", '[]', \"['좋은글', '팟캐스트', '정...</td>\n      <td>1.0</td>\n      <td>1.00</td>\n      <td>1.00</td>\n      <td>0.00</td>\n    </tr>\n  </tbody>\n</table>\n</div>"
     },
     "metadata": {},
     "execution_count": 41
    }
   ],
   "source": [
    "target_dev = pd.read_csv('./res/target_dev.csv')\n",
    "target_dev.head()"
   ]
  },
  {
   "cell_type": "markdown",
   "metadata": {},
   "source": [
    "### 타겟유저가 읽은 글들의 태그 count --> top-5개 추림"
   ]
  },
  {
   "cell_type": "code",
   "execution_count": 42,
   "metadata": {
    "tags": []
   },
   "outputs": [
    {
     "output_type": "stream",
     "name": "stdout",
     "text": "['영화', '영화리뷰', '다큐멘터리', '고양이', '길고양이', '고양이사진', '직장인', '독서모임', '일', '진로', '적성', '적성검사', '맥주', 'AI', '건강', '행복', '스트레스', '정리', '비용', '패션에세이', '연재만화', '만화', '이웃집유부녀', '만화', '이웃집유부녀', '상식', '커피', '홍차', '다방', '투자', '벤처투자금', '스타트업', '이문세', '가사', '잔나비김윤희', '아이디어', '스타트업', '리뷰', '스타벅스', '카페', '커피빈', '안희정', '이슈', '출판', '출판사', '신간', '오디오클립', '콘텐츠', '네이버', '부산', '부산여행', '해운대', '고양이', '고양이사진', '길고양이', '독서모임', '공부', '직장인', '사진', 'iPhone', '아이폰', '영화', '영화리뷰', '영화이야기', '독서', '자기계발', '글쓰기', '무선충전기', '이어폰', '어둠', '밤', '칼럼']\n"
    }
   ],
   "source": [
    "target_read_tag = []\n",
    "\n",
    "for idx in target_dev['user_id'].values.tolist():\n",
    "    # read_list- > target user의 read_list\n",
    "\n",
    "    read_list = re.findall(r\"[\\w@-]+\", target_dev[target_dev['user_id']==idx]['recent'].values[0][:])\n",
    "            \n",
    "    keyword_list = metadata[metadata['id'].isin(read_list)]['article_tag_list'].tolist()\n",
    "    for i in range(len(keyword_list)):\n",
    "        keyword_list[i] = re.findall(r\"[\\w]+\", keyword_list[i])\n",
    "    read_tag = sum(keyword_list, [])\n",
    "    if idx == '#f109244f9a9fb8947472736f89df59e3':\n",
    "        print(read_tag)     \n",
    "    # 각 target user가 일정 기간 동안 읽은 글의 태그들의 빈도수 저장\n",
    "    frequency = Counter(read_tag)\n",
    "    # 타겟 유저가 읽은 글의 태그 모음.\n",
    "    target_read_tag.append(frequency)"
   ]
  },
  {
   "cell_type": "code",
   "execution_count": 43,
   "metadata": {
    "tags": []
   },
   "outputs": [],
   "source": [
    "#sorted(target_read_tag[96].items(), key=lambda pair: pair[1], reverse=True)\n",
    "## 타겟 유저의 interest tag top-5\n",
    "target_top5_tmp= []\n",
    "for i in range(len(target_read_tag)):\n",
    "    # 이중 리스트형태로 저장.\n",
    "    target_top5_tmp.append(sorted(target_read_tag[i], key=target_read_tag[i].get, reverse=True)[0:5]\n",
    ")"
   ]
  },
  {
   "cell_type": "code",
   "execution_count": null,
   "metadata": {},
   "outputs": [],
   "source": [
    "target_top5_tmp[8:20]"
   ]
  },
  {
   "cell_type": "code",
   "execution_count": 44,
   "metadata": {},
   "outputs": [],
   "source": [
    "\"\"\"\n",
    "태그중에 영어 등장 --> 우선 삭제. . .\n",
    "\"\"\"\n",
    "def isHangul(text):\n",
    "    encText = text\n",
    "    hanCount = len(re.findall(u'[\\u3130-\\u318F\\uAC00-\\uD7A3]+', encText))\n",
    "    return hanCount > 0\n",
    "    "
   ]
  },
  {
   "cell_type": "code",
   "execution_count": 45,
   "metadata": {
    "tags": []
   },
   "outputs": [
    {
     "output_type": "stream",
     "name": "stdout",
     "text": "delete 8 0 IT\ndelete 8 2 java\ndelete 8 4 AI\ndelete 37 4 UX\ndelete 40 2 UX\ndelete 75 0 UX\ndelete 75 2 UI\ndelete 97 0 IT\ndelete 105 3 UX\ndelete 106 1 IT\ndelete 107 3 UX\ndelete 181 0 UX\ndelete 193 0 HR\ndelete 196 1 IT\ndelete 208 1 UI\ndelete 218 3 UX\ndelete 231 2 UX\ndelete 249 1 IT\ndelete 250 4 KBS\ndelete 283 2 UI\ndelete 283 3 UX\ndelete 292 0 UX\ndelete 292 1 UI\ndelete 298 1 UX\ndelete 298 4 UI\ndelete 318 2 UI\ndelete 318 3 UX\ndelete 320 2 AI\ndelete 323 1 AI\ndelete 323 3 PM\ndelete 323 4 IT\ndelete 325 2 UX\ndelete 334 2 IT\ndelete 385 1 UI\ndelete 387 4 Paris\ndelete 398 3 UX\ndelete 415 2 IT\ndelete 415 4 UI\ndelete 424 2 UX\ndelete 427 2 IT\ndelete 475 3 IT\ndelete 482 2 UX\ndelete 482 3 UI\ndelete 486 3 AI\ndelete 494 3 UX\ndelete 498 4 UX\ndelete 516 1 UX\ndelete 544 0 UX\ndelete 552 1 IT\ndelete 594 3 IT\ndelete 609 2 IT\ndelete 646 4 TIP\ndelete 665 3 UX\ndelete 687 3 UI\ndelete 695 1 HCI\ndelete 701 0 MBTI\ndelete 707 0 UX\ndelete 709 1 UX\ndelete 709 2 UI\ndelete 709 3 IT\ndelete 733 3 UX\ndelete 734 1 UX\ndelete 734 3 IT\ndelete 774 0 IT\ndelete 774 1 UX\ndelete 774 4 UI\ndelete 781 0 IT\ndelete 796 0 IT\ndelete 823 3 UX\ndelete 840 1 IT\ndelete 840 2 UX\ndelete 866 0 IT\ndelete 948 2 UX\ndelete 948 4 UI\ndelete 954 4 LEGO\ndelete 966 2 IT\ndelete 999 3 UX\ndelete 1001 2 DSLR\ndelete 1048 1 IT\ndelete 1055 2 UX\ndelete 1056 3 UX\ndelete 1100 0 TV\ndelete 1100 1 MBC\ndelete 1110 4 UX\ndelete 1144 1 IT\ndelete 1192 1 UX\ndelete 1192 2 UI\ndelete 1208 1 UX\ndelete 1208 2 UI\ndelete 1216 3 apple\ndelete 1217 1 UX\ndelete 1233 0 LG\ndelete 1293 4 IT\ndelete 1297 1 UI\ndelete 1297 3 UX\ndelete 1300 0 MBC\ndelete 1301 1 UX\ndelete 1310 2 CES\ndelete 1316 4 IT\ndelete 1327 0 UX\ndelete 1327 2 UI\ndelete 1338 0 UI\ndelete 1338 1 UX\ndelete 1364 4 CEO\ndelete 1393 1 UX\ndelete 1393 2 UI\ndelete 1398 4 TIP\ndelete 1399 1 UX\ndelete 1421 3 UX\ndelete 1434 2 HR\ndelete 1471 0 UX\ndelete 1471 1 UI\ndelete 1476 1 IT\ndelete 1476 2 AI\ndelete 1497 3 TIP\ndelete 1503 3 UI\ndelete 1503 4 IT\ndelete 1523 3 IoT\ndelete 1559 0 UX\ndelete 1559 4 UI\ndelete 1575 2 UI\ndelete 1599 0 JPOP\ndelete 1619 3 UI\ndelete 1675 1 UX\ndelete 1683 1 UI\ndelete 1694 0 VR\ndelete 1704 1 IT\ndelete 1743 1 UX\ndelete 1757 1 UX\ndelete 1757 2 UI\ndelete 1767 1 spring\ndelete 1767 2 java\ndelete 1771 0 IT\ndelete 1779 4 SNS\ndelete 1804 2 IT\ndelete 1842 0 UX\ndelete 1861 1 IT\ndelete 1861 3 UX\ndelete 1861 4 CTO\ndelete 1864 0 UX\ndelete 1888 0 UX\ndelete 1888 4 UI\ndelete 1959 0 IT\ndelete 1988 0 Python\ndelete 1988 4 SQL\ndelete 2046 4 AI\ndelete 2054 3 CTO\ndelete 2069 1 IT\ndelete 2080 1 SNS\ndelete 2087 1 IT\ndelete 2112 2 IT\ndelete 2125 0 UX\ndelete 2144 0 PPT\ndelete 2279 4 rose\ndelete 2372 2 UI\ndelete 2372 3 UX\ndelete 2398 4 TV\ndelete 2408 0 MBC\ndelete 2521 1 NGO\ndelete 2523 1 IT\ndelete 2523 4 AI\ndelete 2697 0 java\ndelete 2699 1 AI\ndelete 2731 0 MBA\ndelete 2773 2 lol\ndelete 2776 2 UX\ndelete 2802 2 UX\ndelete 2819 0 MBA\ndelete 2844 4 HR\ndelete 2918 4 PD\ndelete 2931 0 IT\ndelete 2944 2 IT\ndelete 2944 4 UX\ndelete 2960 3 ipad\ndelete 2967 4 IT\ndelete 2987 0 IT\n"
    }
   ],
   "source": [
    "\"\"\"\n",
    "영어\n",
    "--> 삭제\n",
    "\"\"\"\n",
    "target_top5_tmp2 = []\n",
    "for i in range(len(target_top5_tmp)):\n",
    "    target_top5_tmp2.append([])\n",
    "    for j in range(len(target_top5_tmp[i])):\n",
    "        if isHangul(target_top5_tmp[i][j]) == False:\n",
    "            print(\"delete\", i, j, target_top5_tmp[i][j])\n",
    "            continue\n",
    "        target_top5_tmp2[i].append(target_top5_tmp[i][j])"
   ]
  },
  {
   "cell_type": "code",
   "execution_count": 46,
   "metadata": {},
   "outputs": [],
   "source": [
    "ko_model = gensim.models.Word2Vec.load('./ko/ko.bin')"
   ]
  },
  {
   "cell_type": "code",
   "execution_count": 47,
   "metadata": {},
   "outputs": [],
   "source": [
    "\"\"\"\n",
    "wv.vocab에 없는 경우\n",
    "--> 형태소 분석 / 삭제 (우선 삭제 후 진행)\n",
    "\"\"\"\n",
    "target_top5_tag=[]\n",
    "for i in range(len(target_top5_tmp2)):\n",
    "    target_top5_tag.append([])\n",
    "    for j in range(len(target_top5_tmp2[i])):\n",
    "        if target_top5_tmp2[i][j] not in ko_model.wv.vocab:\n",
    "            continue\n",
    "        target_top5_tag[i].append(target_top5_tmp2[i][j])"
   ]
  },
  {
   "cell_type": "code",
   "execution_count": null,
   "metadata": {},
   "outputs": [],
   "source": [
    "## 전처리 완료한 타겟 유저의 interest tag\n",
    "# target_top5_tag"
   ]
  },
  {
   "cell_type": "markdown",
   "metadata": {},
   "source": [
    "## word2vec 벡터화"
   ]
  },
  {
   "cell_type": "code",
   "execution_count": 48,
   "metadata": {},
   "outputs": [],
   "source": [
    "\"\"\"\n",
    "관심 tag하나하나를 vector, 그 vector들을 모아서 cluster\n",
    "\n",
    "\"\"\"\n",
    "\n",
    "for i in range(len(target_top5_tag)):\n",
    "    if target_top5_tag[i] == []:\n",
    "        continue\n",
    "    # 태그에 있는 단어들을 한번에 vector화\n",
    "    # target_top5_tag: 3차원 tensor형태(3000, 각자 태그 개수, 2000차원벡터)\n",
    "    target_top5_tag[i] = torch.Tensor(ko_model.wv[target_top5_tag[i]])\n",
    "    "
   ]
  },
  {
   "cell_type": "markdown",
   "metadata": {},
   "source": [
    "## metadata item에 대한 워드임배딩"
   ]
  },
  {
   "cell_type": "code",
   "execution_count": 49,
   "metadata": {},
   "outputs": [],
   "source": [
    "meta_tag_list = metadata['article_tag_list'].tolist()\n",
    "for i in range(len(meta_tag_list)):\n",
    "    meta_tag_list[i] = re.findall(r\"[\\w]+\", meta_tag_list[i])"
   ]
  },
  {
   "cell_type": "code",
   "execution_count": 50,
   "metadata": {
    "tags": [
     "outputPrepend"
    ]
   },
   "outputs": [
    {
     "output_type": "stream",
     "name": "stdout",
     "text": "elete 616972 2 IT\ndelete 616976 1 tea\ndelete 616995 2 POP\ndelete 617032 1 Santiago\ndelete 617048 0 CEO\ndelete 617060 1 piano\ndelete 617090 0 MBA\ndelete 617098 0 EPL\ndelete 617116 1 EPL\ndelete 617142 0 CEO\ndelete 617198 2 OST\ndelete 617264 0 IT\ndelete 617281 0 O2O\ndelete 617294 0 IT\ndelete 617331 2 life\ndelete 617335 2 Google\ndelete 617336 0 IT\ndelete 617357 0 UI\ndelete 617363 2 IT\ndelete 617423 2 coffee\ndelete 617433 0 IT\ndelete 617433 1 Christmas\ndelete 617475 2 IT\ndelete 617548 0 UI\ndelete 617569 1 IT\ndelete 617640 2 IT\ndelete 617642 1 digital\ndelete 617655 0 LG\ndelete 617677 2 IT\ndelete 617703 0 poem\ndelete 617722 0 art\ndelete 617881 1 think\ndelete 617881 2 TED\ndelete 617919 2 TV\ndelete 617935 1 photograph\ndelete 617971 2 TV\ndelete 617980 0 PD\ndelete 618101 2 POD\ndelete 618172 2 LG\ndelete 618180 1 SNS\ndelete 618182 0 UX\ndelete 618185 2 MSG\ndelete 618216 2 IT\ndelete 618221 1 TED\ndelete 618222 1 design\ndelete 618283 2 TIP\ndelete 618291 1 man\ndelete 618291 2 you\ndelete 618302 0 SNS\ndelete 618381 2 IT\ndelete 618384 1 TV\ndelete 618405 0 UI\ndelete 618405 1 IT\ndelete 618421 0 LG\ndelete 618442 1 SF\ndelete 618511 1 Australia\ndelete 618539 1 Australia\ndelete 618571 1 SNS\ndelete 618597 2 UX\ndelete 618603 1 Camino\ndelete 618609 2 IT\ndelete 618668 0 LTE\ndelete 618774 2 LP\ndelete 618809 1 drawing\ndelete 618810 0 coffee\ndelete 618817 1 IT\ndelete 618817 2 3D\ndelete 618820 0 LG\ndelete 618820 1 IT\ndelete 618833 0 CEO\ndelete 618872 1 queen\ndelete 618918 1 life\ndelete 618924 1 O2O\ndelete 618975 1 dream\ndelete 619014 0 UX\ndelete 619020 2 drawing\ndelete 619086 2 IT\ndelete 619158 1 digital\ndelete 619209 1 IT\ndelete 619237 1 you\ndelete 619241 0 SBS\ndelete 619349 0 LG\ndelete 619349 1 IT\ndelete 619362 0 IT\ndelete 619386 1 IT\ndelete 619426 2 IT\ndelete 619464 1 IT\ndelete 619465 2 UX\ndelete 619488 2 interview\ndelete 619608 0 SF\ndelete 619616 0 UX\ndelete 619677 1 film\ndelete 619718 1 EPL\ndelete 619724 2 DIY\ndelete 619753 1 USB\ndelete 619755 0 LP\ndelete 619798 0 SNS\ndelete 619811 1 film\ndelete 619819 1 RSS\ndelete 619829 2 NGO\ndelete 619830 1 OST\ndelete 619856 0 AI\ndelete 619875 1 art\ndelete 619914 2 tvN\ndelete 619933 1 SNS\ndelete 619949 2 SNS\ndelete 619971 1 IT\ndelete 620018 1 tvN\ndelete 620024 1 VR\ndelete 620049 1 film\ndelete 620049 2 photograph\ndelete 620051 2 film\ndelete 620074 2 SNS\ndelete 620170 1 TV\ndelete 620173 2 UFO\ndelete 620221 1 IT\ndelete 620276 1 PR\ndelete 620352 2 BGM\ndelete 620363 0 TED\ndelete 620367 0 UX\ndelete 620430 2 BGM\ndelete 620528 1 movie\ndelete 620607 1 book\ndelete 620610 0 beach\ndelete 620610 2 Australia\ndelete 620621 2 UX\ndelete 620624 2 O2O\ndelete 620625 0 movie\ndelete 620646 0 movie\ndelete 620660 1 JavaScript\ndelete 620678 0 movie\ndelete 620679 1 UI\ndelete 620710 1 SF\ndelete 620720 2 movie\ndelete 620752 2 SNS\ndelete 620792 0 AI\ndelete 620859 1 movie\ndelete 620873 0 TED\ndelete 620891 0 movie\ndelete 620921 1 movie\ndelete 620927 2 UI\ndelete 620979 1 AI\ndelete 620993 2 MBA\ndelete 621008 2 UI\ndelete 621013 2 UX\ndelete 621042 0 IT\ndelete 621046 0 IT\ndelete 621059 2 UX\ndelete 621062 0 SF\ndelete 621075 0 IT\ndelete 621076 2 IT\ndelete 621106 0 UX\ndelete 621131 0 IT\ndelete 621131 2 news\ndelete 621154 0 NGO\ndelete 621197 0 AI\ndelete 621220 0 SF\ndelete 621222 1 tvN\ndelete 621234 2 startup\ndelete 621306 0 IT\ndelete 621344 1 AI\ndelete 621349 2 DSLR\ndelete 621365 0 sky\ndelete 621407 0 UX\ndelete 621463 1 UX\ndelete 621479 2 JavaScript\ndelete 621505 2 rock\ndelete 621532 0 PR\ndelete 621545 2 MTB\ndelete 621547 1 Paris\ndelete 621549 2 coffee\ndelete 621575 2 IT\ndelete 621632 0 SNS\ndelete 621658 0 time\ndelete 621729 0 JavaScript\ndelete 621733 0 PR\ndelete 621736 2 Linux\ndelete 621744 2 Paris\ndelete 621760 1 IT\ndelete 621782 0 font\ndelete 621782 1 CSS\ndelete 621815 0 Android\ndelete 621815 1 java\ndelete 621950 1 drawing\ndelete 622002 0 CEO\ndelete 622044 2 SF\ndelete 622079 1 AI\ndelete 622092 2 jazz\ndelete 622183 1 NGO\ndelete 622324 0 drawing\ndelete 622336 1 IT\ndelete 622378 0 NGO\ndelete 622378 1 UN\ndelete 622403 0 story\ndelete 622442 2 iOS\ndelete 622455 0 TV\ndelete 622457 2 science\ndelete 622477 2 SF\ndelete 622485 2 CF\ndelete 622518 2 eBook\ndelete 622528 0 coffee\ndelete 622551 0 IT\ndelete 622551 2 PM\ndelete 622559 1 Oracle\ndelete 622606 0 science\ndelete 622611 1 iOS\ndelete 622662 1 SF\ndelete 622672 1 UX\ndelete622716 1 jazz\ndelete 622740 0 science\ndelete 622785 0 POD\ndelete 622837 2 science\ndelete 622899 0 Galaxy\ndelete 622899 2 IT\ndelete 622934 1 YouTube\ndelete 622963 0 show\ndelete 623068 1 money\ndelete 623177 0 IT\ndelete 623218 2 IT\ndelete 623268 0 JavaScript\ndelete 623322 2 collection\ndelete 623330 2 IT\ndelete 623374 0 VR\ndelete 623374 1 LTE\ndelete 623394 2 IT\ndelete 623398 2 IT\ndelete 623400 0 iOS\ndelete 623400 1 IT\ndelete 623429 1 blog\ndelete 623457 2 IT\ndelete 623463 0 AI\ndelete 623463 2 IoT\ndelete 623487 2 OST\ndelete 623520 0 F1\ndelete 623533 2 sky\ndelete 623554 2 IT\ndelete 623557 2 review\ndelete 623591 2 DSLR\ndelete 623611 1 IT\ndelete 623640 2 IT\ndelete 623653 1 IMF\ndelete 623656 1 IT\ndelete 623790 2 IT\ndelete 623802 1 rain\ndelete 623849 2 SF\ndelete 623915 0 UX\ndelete 623915 2 UI\ndelete 623969 0 EPL\ndelete 624040 2 BGM\ndelete 624055 1 IT\ndelete 624060 1 SF\ndelete 624060 2 daily\ndelete 624074 0 UX\ndelete 624074 1 UI\ndelete 624074 2 design\ndelete 624102 0 java\ndelete 624102 2 Android\ndelete 624109 0 Android\ndelete 624109 1 MVP\ndelete 624128 0 Android\ndelete 624128 1 java\ndelete 624147 0 design\ndelete 624147 1 UI\ndelete 624147 2 UX\ndelete 624151 2 IT\ndelete 624171 1 Android\ndelete 624191 2 SF\ndelete 624198 1 IT\ndelete 624258 0 SF\ndelete 624268 0 design\ndelete 624268 1 UX\ndelete 624268 2 UI\ndelete 624272 1 SF\ndelete 624306 2 CF\ndelete 624310 2 UI\ndelete 624330 0 LA\ndelete 624409 1 spring\ndelete 624476 0 MBC\ndelete 624521 1 DIY\ndelete 624584 1 AI\ndelete 624616 1 IT\ndelete 624637 2 IT\ndelete 624652 0 spring\ndelete 624673 0 AI\ndelete 624687 0 UX\ndelete 624687 1 UI\ndelete 624748 0 UX\ndelete 624748 1 IT\ndelete 624758 2 SNS\ndelete 624797 0 PR\ndelete 624800 2 jazz\ndelete 624810 1 news\ndelete 624810 2 travel\ndelete 624827 0 Camino\ndelete 624838 0 UX\ndelete 624838 1 IT\ndelete 624870 2 value\ndelete 624880 2 IT\ndelete 624890 0 UX\ndelete 624890 2 IT\ndelete 624925 0 UI\ndelete 624925 1 UX\ndelete 624978 0 GMO\ndelete 624999 0 UX\ndelete 624999 2 IT\ndelete 625003 0 China\ndelete 625003 1 Korea\ndelete 625003 2 news\ndelete 625009 1 PR\ndelete 625040 2 book\ndelete 625080 0 IT\ndelete 625080 1 SNS\ndelete 625111 2 brand\ndelete 625115 1 F1\ndelete 625124 1 CEO\ndelete 625134 2 money\ndelete 625148 1 HR\ndelete 625158 2 book\ndelete 625183 0 AI\ndelete 625184 0 Korea\ndelete 625184 1 news\ndelete 625184 2 Seoul\ndelete 625198 2 rain\ndelete 625215 1 OST\ndelete 625215 2 CD\ndelete 625223 1 SF\ndelete 625228 1 IT\ndelete 625229 1 movie\ndelete 625273 2 HR\ndelete 625280 1 AI\ndelete 625302 0 IT\ndelete 625302 2 digital\ndelete 625318 0 HR\ndelete 625322 0 EDM\ndelete 625322 1 power\ndelete 625353 1 SF\ndelete 625377 1 IT\ndelete 625402 1 OST\ndelete 625478 2 HR\ndelete 625509 0 fiction\ndelete 625511 1 OST\ndelete 625528 1 PD\ndelete 625545 2 UX\ndelete 625550 1 HR\ndelete 625597 0 IT\ndelete 625627 2 EDM\ndelete 625673 1 IT\ndelete 625680 0 VR\ndelete 625682 0 MBC\ndelete 625720 2 IT\ndelete 625788 1 SF\ndelete 625800 1 YouTube\ndelete 625832 1 3D\ndelete 625869 0 IT\ndelete 625882 1 California\ndelete 625886 0 YouTube\ndelete 625987 0 IT\ndelete 626014 2 IT\ndelete 626065 1 Google\ndelete 626103 0 tea\ndelete 626121 1 Christmas\ndelete 626136 2 DSLR\ndelete 626139 2 Facebook\ndelete 626182 0 HTML\ndelete 626183 1 MLB\ndelete 626188 0 LG\ndelete 626188 1 IT\ndelete 626209 2 IT\ndelete 626215 0 Christmas\ndelete 626222 1 IT\ndelete 626292 1 IT\ndelete 626330 2 life\ndelete 626409 0 HTML\ndelete 626440 2 IT\ndelete 626474 1 jazz\ndelete 626580 1 beauty\ndelete 626597 1 HTML\ndelete 626635 0 HTML\ndelete 626646 2 TED\ndelete 626743 0 MLB\ndelete 626743 2 NBA\ndelete 626767 0 you\ndelete 626778 1 AI\ndelete 626785 1 AI\ndelete 626915 0 UX\ndelete 626915 1 case\ndelete 626922 2 SNS\ndelete 626946 1 SNS\ndelete 626958 2 SF\ndelete 626965 0 AI\ndelete 627163 2 LED\ndelete 627175 0 queen\ndelete 627242 2 life\ndelete 627256 0 reading\ndelete 627444 0 SUV\ndelete 627454 2 time\ndelete 627469 0 MBC\ndelete 627493 0 GMO\ndelete 627529 0 UX\ndelete 627529 1 IT\ndelete 627612 1 key\ndelete 627612 2 event\ndelete 627617 1 VR\ndelete 627692 2 MBC\ndelete 627693 1 ADHD\ndelete 627705 0 YouTube\ndelete 627722 2 IT\ndelete 627734 2 IMF\ndelete 627740 0 IT\ndelete 627776 1 YTN\ndelete 627776 2 MBC\ndelete 627781 1 MBC\ndelete 627787 1 money\ndelete 627791 2 CEO\ndelete 627801 0 UFO\ndelete 627837 2 KBO\ndelete 627894 2 MSG\ndelete 627929 0 Google\ndelete 627929 1 IT\ndelete 627987 2 MBC\ndelete 628036 1 Python\ndelete 628041 2 EDM\ndelete 628077 2 SNS\ndelete 628082 2 AI\ndelete 628141 0 piano\ndelete 628141 2 music\ndelete 628196 1 SF\ndelete 628218 2 comedy\ndelete 628235 0 SUV\ndelete 628261 2 IT\ndelete 628268 1 IT\ndelete 628291 2 IT\ndelete 628300 0 writing\ndelete 628300 1 photo\ndelete 628322 2 review\ndelete 628336 3 drawing\ndelete 628382 2 IT\ndelete 628430 2 Sony\ndelete 628646 1 free\ndelete 628646 2 love\ndelete 628653 0 USB\ndelete 628661 0 IT\ndelete 628690 0 UX\ndelete 628690 2 UI\ndelete 628712 1 EBS\ndelete 628721 1 UX\ndelete 628722 0 IT\ndelete 628745 0 SF\ndelete 628769 0 UX\ndelete 628770 2 IT\ndelete 628778 2 news\ndelete 628784 2 POD\ndelete 628796 0 IT\ndelete 628812 0 UI\ndelete 628812 1 UX\ndelete 628815 0 UX\ndelete 628815 1 UI\ndelete 628837 1 IT\ndelete 628861 2 KBS\ndelete 628883 0 UX\ndelete 628883 2 UI\ndelete 628890 2 IT\ndelete 628893 1 IT\ndelete 628902 2 IT\ndelete 628927 0 UX\ndelete 628927 1 UI\ndelete 628950 1 Mac\ndelete 628979 2 IT\ndelete 628981 1 IT\ndelete 629053 0 VR\ndelete 629053 2 3D\ndelete 629086 1 IT\ndelete 629111 2 EU\ndelete 629200 0 audio\ndelete 629201 2 love\ndelete 629237 2 OST\ndelete 629284 0 France\ndelete 629286 1 LA\ndelete 629371 2 VR\ndelete 629412 2 IT\ndelete 629445 1 KBS\ndelete 629445 2 MBC\ndelete 629499 0 IT\ndelete 629522 0 health\ndelete 629524 1 EU\ndelete 629545 1 drone\ndelete 629545 2 IT\ndelete 629550 1 EU\ndelete 629558 2 Linux\ndelete 629570 1 IT\ndelete 629576 0 lol\ndelete 629582 1 SNS\ndelete 629617 0 NBA\ndelete 629623 2 UX\ndelete 629646 1 MBC\ndelete 629659 1 drone\ndelete 629679 0 Mac\ndelete 629709 1 IT\ndelete 629713 2 Samsung\ndelete 629724 2 MBC\ndelete 629737 1 diet\ndelete 629771 1 drone\ndelete 629774 0 SF\ndelete 629776 2 SUV\ndelete 629794 1 lol\ndelete 629808 0 SNS\ndelete 629835 0 IT\ndelete 629840 2 network\ndelete 629867 0 MBC\ndelete 629899 2 MBC\ndelete 629931 2 IT\ndelete 629966 1 DSLR\ndelete 629978 0 IT\ndelete 629982 1 IT\ndelete 629982 2 camera\ndelete 630005 2 DSLR\ndelete 630009 0 IT\ndelete 630046 2 IT\ndelete 630059 0 DSLR\ndelete 630079 2 studio\ndelete 630108 1 DSLR\ndelete 630137 0 JavaScript\ndelete 630137 2 mobile\ndelete 630171 1 java\ndelete 630199 0 java\ndelete 630224 0 DSLR\ndelete 630247 1 DSLR\ndelete 630263 1 IT\ndelete 630266 0 LG\ndelete 630266 2 IT\ndelete 630270 1 IT\ndelete 630336 2 O2O\ndelete 630450 0 JavaScript\ndelete 630452 1 SUV\ndelete 630460 0 HTML\ndelete 630460 1 JavaScript\ndelete 630492 0 SF\ndelete 630502 0 NBA\ndelete 630514 0 JavaScript\ndelete 630514 1 UI\ndelete 630516 0 JavaScript\ndelete 630516 1 CSS\ndelete 630541 2 SNS\ndelete 630546 0 TV\ndelete 630548 2 SUV\ndelete 630569 1 KBS\ndelete 630614 2 book\ndelete 630637 0 HTML\ndelete 630637 1 JavaScript\ndelete 630689 0 business\ndelete 630691 0 HTML\ndelete 630691 1 spring\ndelete 630712 0 spring\ndelete 630725 2 MBC\ndelete 630766 1 writing\ndelete 630766 2 essay\ndelete 630831 2 movie\ndelete 630835 0 spring\ndelete 630907 1 RPG\ndelete 630959 1 IT\ndelete 631014 2 KBS\ndelete 631080 2 icon\ndelete 631150 0 dance\ndelete 631153 1 icon\ndelete 631164 2 office\ndelete 631201 0 LG\ndelete 631277 0 ubuntu\ndelete 631304 2 IT\ndelete 631316 2 KBS\ndelete 631363 2 IT\ndelete 631368 1 IT\ndelete 631381 0 IT\ndelete 631413 1 Paris\ndelete 631445 2 ipod\ndelete 631484 2 KTX\ndelete 631495 1 3D\ndelete 631495 2 VR\ndelete 631507 2 IT\ndelete 631520 0 time\ndelete 631586 1 IoT\ndelete 631586 2 IT\ndelete 631587 1 IT\ndelete 631599 1 IS\ndelete 631654 2 SNS\ndelete 631707 1 VR\ndelete 631863 2 NAVER\ndelete 631871 0 IT\ndelete 631909 0 JPOP\ndelete 632001 1 single\ndelete 632004 0 AI\ndelete 632038 1 iOS\ndelete 632038 2 iPhone\ndelete 632084 0 book\ndelete 632084 1 online\ndelete 632146 2 JPOP\ndelete 632197 0 English\ndelete 632202 1 JPOP\ndelete 632278 0 CES\ndelete 632278 1 LG\ndelete 632278 2 IT\ndelete 632318 0 IT\ndelete 632349 0 PD\ndelete 632365 1 NBA\ndelete 632375 1 UI\ndelete 632376 2 DSLR\ndelete 632400 2 IT\ndelete 632403 2 IT\ndelete 632415 1 conference\ndelete 632462 1 IT\ndelete 632479 0 IT\ndelete 632504 2 PC\ndelete 632571 1 IT\ndelete 632639 1 POP\ndelete 632670 2 IT\ndelete 632706 2 MC\ndelete 632751 0 CPU\ndelete 632857 1 LG\ndelete 632924 0 Camino\ndelete 632925 0 MBC\ndelete 632972 2 LG\ndelete 632994 2 MBC\ndelete 633056 2 Pentax\ndelete 633109 0 Twitter\ndelete 633113 2 EDM\ndelete 633122 1 heart\ndelete 633133 0 PC\ndelete 633133 1 VR\ndelete 633162 0 SNS\ndelete 633169 2 Tesla\ndelete 633181 2 MBTI\ndelete 633191 2 business\ndelete 633195 0 IT\ndelete 633213 2 EDM\ndelete 633221 2 IT\ndelete 633233 0 OST\ndelete 633241 0 Microsoft\ndelete 633242 1 CI\ndelete 633268 2 LG\ndelete 633280 0 EBS\ndelete 633304 1 iOS\ndelete 633325 0 LG\ndelete 633399 2 love\ndelete 633422 2 LG\ndelete 633434 2 java\ndelete 633475 1 LED\ndelete 633490 2 UX\ndelete 633494 2 IT\ndelete 633504 1 LG\ndelete 633515 2 apple\ndelete 633603 1 global\ndelete 633604 2 SNS\ndelete 633642 0 LG\ndelete 633688 0 UX\ndelete 633720 2 UX\ndelete 633721 2 iPhone\ndelete 633729 1 HSK\ndelete 633732 1 HSK\ndelete 633767 0 piano\ndelete 633772 2 YouTube\ndelete 633784 0 Mac\ndelete 633799 1 IT\ndelete 633800 1 camera\ndelete 633820 1 VR\ndelete 633825 0 love\ndelete 633825 1 live\ndelete 633852 1 YouTube\ndelete 633939 0 Google\ndelete 633939 1 Android\ndelete 633945 1 YouTube\ndelete 633984 0 IS\ndelete 633984 1 US\ndelete 634017 0 IT\ndelete 634065 1 YouTube\ndelete 634069 1 SF\ndelete 634101 1 IT\ndelete 634104 2 LA\ndelete 634136 2 CES\ndelete 634190 2 MBA\ndelete 634203 2 eBook\ndelete 634208 2 FTA\ndelete 634209 1 PR\ndelete 634242 0 IT\ndelete 634263 1 AI\ndelete 634269 0 SNS\ndelete 634292 0 IT\ndelete 634338 2 TED\ndelete 634440 1 IT\ndelete 634444 0 VR\ndelete 634450 0 Android\ndelete 634450 1 build\ndelete 634485 2 drone\ndelete 634571 1 IT\ndelete 634585 0 IT\ndelete 634585 1 TED\ndelete 634601 1 VR\ndelete 634614 0 IT\ndelete 634625 2 UN\ndelete 634653 0 Python\ndelete 634721 2 spring\ndelete 634786 0 life\ndelete 634790 0 ICT\ndelete 634804 0 SNS\ndelete 634804 2 Twitter\ndelete 634808 1 IT\ndelete 634837 1 GMO\ndelete 634931 0 3D\ndelete 634995 2 TV\ndelete 635112 2 CEO\ndelete 635123 0 IT\ndelete 635132 0 LG\ndelete 635158 2 IT\ndelete 635198 0 ADHD\ndelete 635213 2 IT\ndelete 635222 1 IT\ndelete 635312 2 IT\ndelete 635334 0 IT\ndelete 635356 2 Daum\ndelete 635405 2 startup\ndelete 635416 2 SNS\ndelete 635424 2 IT\ndelete 635452 2 tea\ndelete 635460 0 queen\ndelete 635517 1 IT\ndelete 635544 2 IT\ndelete 635556 2 IT\ndelete 635560 0 TV\ndelete 635574 2 UX\ndelete 635579 2 IT\ndelete 635583 0 book\ndelete 635603 1 IT\ndelete 635625 1 IT\ndelete 635625 2 Mac\ndelete 635646 2 IT\ndelete 635704 0 IT\ndelete 635769 1 EDM\ndelete 635771 1 IT\ndelete 635797 2 CCTV\ndelete 635829 2 IT\ndelete 635835 1 IT\ndelete 635835 2 java\ndelete 635851 1 Android\ndelete 635872 1 queen\ndelete 635874 2 PR\ndelete 635886 1 CEO\ndelete 635887 2 IT\ndelete 635960 2 SF\ndelete 635964 0 UX\ndelete 635964 1 labeling\ndelete 635980 1 MBC\ndelete 636012 2 UX\ndelete 636018 1 AI\ndelete 636115 0 AI\ndelete 636115 1 kakao\ndelete 636115 2 report\ndelete 636122 1 UX\ndelete 636157 0 reading\ndelete 636165 2 you\ndelete 636258 2 you\ndelete 636294 2 UX\ndelete 636392 1 you\ndelete 636428 0 UX\ndelete 636428 1 HCI\ndelete 636476 0 UX\ndelete 636549 0 TV\ndelete 636573 1 drawing\ndelete 636584 1 TOEIC\ndelete 636600 2 Google\ndelete 636703 0 PD\ndelete 636869 2 drawing\ndelete 636912 0 UX\ndelete 636912 2 UI\ndelete 636948 1 IT\ndelete 637005 0 MBC\ndelete 637010 0 digital\ndelete 637010 1 work\ndelete 637028 1 MBC\ndelete 637053 2 PD\ndelete 637085 1 DIY\ndelete 637094 1 SF\ndelete 637119 0 DIY\ndelete 637142 0 IT\ndelete 637169 0 life\ndelete 637176 1 DIY\ndelete 637191 0 DSLR\ndelete 637290 0 DIY\ndelete 637299 0 EDM\ndelete 637363 0 OST\ndelete 637368 2 MBC\ndelete 637376 1 IT\ndelete 637381 2 IT\ndelete 637383 1 MBC\ndelete 637396 1 MBA\ndelete 637456 2 JavaScript\ndelete 637517 2 EPL\ndelete 637582 1 travel\ndelete 637594 2 LP\ndelete 637606 0 ipad\ndelete 637638 2 SF\ndelete 637657 0 value\ndelete 637729 1 apple\ndelete 637801 0 bank\ndelete 637807 1 IT\ndelete 637818 0 GMO\ndelete 637864 0 Korean\ndelete 637913 0 CEO\ndelete 637943 0 MTB\ndelete 637971 0 Leica\ndelete 637983 1 AI\ndelete 637986 0 SNS\ndelete 637988 1 Leica\ndelete 638007 0 digital\ndelete 638007 2 IT\ndelete 638036 1 AI\ndelete 638037 0 IT\ndelete 638047 2 MTB\ndelete 638049 2 heart\ndelete 638100 1 GOD\ndelete 638127 1 SF\ndelete 638141 2 Leica\ndelete 638163 1 SNS\ndelete 638166 0 Korea\ndelete 638166 1 America\ndelete 638166 2 education\ndelete 638170 2 beauty\ndelete 638196 0 jazz\ndelete 638299 1 IT\ndelete 638442 1 SNS\ndelete 638489 0 FTA\ndelete 638571 1 UX\ndelete 638587 0 SF\ndelete 638598 0 UX\ndelete 638645 0 UI\ndelete 638645 2 UX\ndelete 638646 0 UX\ndelete 638646 2 UI\ndelete 638671 0 IT\ndelete 638709 1 MBTI\ndelete 638735 0 UX\ndelete 638735 1 UI\ndelete 638735 2 design\ndelete 638780 0 UX\ndelete 638780 1 UI\ndelete 638780 2 design\ndelete 638814 2 SNS\ndelete 638819 1 SF\ndelete 638825 1 JavaScript\ndelete 638834 1 CES\ndelete 638834 2 TV\ndelete 638878 1 HR\ndelete 638916 2 HR\ndelete 638984 2 CES\ndelete 639013 1 IT\ndelete 639041 2 IT\ndelete 639091 0 IT\ndelete 639101 1 HR\ndelete 639139 0 IT\ndelete 639174 2 TV\ndelete 639189 2 IT\ndelete 639234 2 trend\ndelete 639248 0 IT\ndelete 639274 1 JavaScript\ndelete 639279 1 LEGO\ndelete 639311 1 BMW\ndelete 639329 1 UX\ndelete 639341 0 IT\ndelete 639368 1 SUV\ndelete 639378 0 UX\ndelete 639383 0 IT\ndelete 639411 0 VR\ndelete 639488 0 photo\ndelete 639488 1 music\ndelete 639497 1 IT\ndelete 639534 2 VR\ndelete 639559 2 UX\ndelete 639600 1 Paris\ndelete 639600 2 love\ndelete 639610 1 NBA\ndelete 639638 0 KBL\ndelete 639670 1 3D\ndelete 639684 2 UX\ndelete 639717 0 IT\ndelete 639729 1 UX\ndelete 639759 1 album\ndelete 639761 2 IT\ndelete 639773 1 SNS\ndelete 639786 1 SNS\ndelete 639790 0 SNS\ndelete 639835 0 ubuntu\ndelete 639835 1 Linux\ndelete 639842 2 lol\ndelete 639852 2 PC\ndelete 639864 0 new\ndelete 639864 1 Google\ndelete 639877 2 dark\ndelete 639897 0 IT\ndelete 639921 1 UI\ndelete 639979 2 MBC\ndelete 639996 0 UX\ndelete 640004 2 lol\ndelete 640033 1 SNS\ndelete 640047 0 IT\ndelete 640047 1 ubuntu\ndelete 640054 2 UI\ndelete 640130 1 IT\ndelete 640146 2 room\ndelete 640208 0 you\ndelete 640211 1 HSK\ndelete 640215 1 NGO\ndelete 640215 2 UN\ndelete 640276 1 UN\ndelete 640304 0 KBS\ndelete 640327 0 SF\ndelete 640329 0 UN\ndelete 640368 0 UN\ndelete 640387 2 UN\ndelete 640454 0 UX\ndelete 640569 1 OST\ndelete 640571 1 HSK\ndelete 640591 0 NGO\ndelete 640591 2 UN\ndelete 640731 1 IT\ndelete 640748 1 UX\ndelete 640770 2 SF\ndelete 640771 1 MBC\ndelete 640812 1 OST\ndelete 640865 0 UX\ndelete 640888 2 rock\ndelete 640945 0 summer\ndelete 640947 0 HR\ndelete 641008 1 IT\ndelete 641024 2 SNS\ndelete 641176 1 Christmas\ndelete 641274 2 BI\ndelete 641414 2 CEO\ndelete 641424 1 hot\ndelete 641454 2 DIY\ndelete 641467 2 SNS\ndelete 641525 1 SNS\ndelete 641611 0 IT\ndelete 641629 0 IT\ndelete 641654 1 Tokyo\ndelete 641660 1 FinTech\ndelete 641660 2 technology\ndelete 641661 0 finance\ndelete 641665 1 coffee\ndelete 641700 2 Tokyo\ndelete 641746 1 IT\ndelete 641759 1 IT\ndelete 641766 0 IT\ndelete 641766 1 digital\ndelete 641810 0 SNS\ndelete 641841 1 IT\ndelete 641863 1 IT\ndelete 641894 2 RPG\ndelete 641904 2 SNS\ndelete 642013 0 iOS\ndelete 642027 1 SF\ndelete 642044 1 SNS\ndelete 642066 0 queen\ndelete 642093 1 IT\ndelete 642208 0 SNS\ndelete 642208 2 IT\ndelete 642224 0 TED\ndelete 642237 0 UI\ndelete 642237 1 design\ndelete 642239 1 queen\ndelete 642341 0 iPhone\ndelete 642384 1 IT\ndelete 642392 2 LP\ndelete 642410 2 apple\ndelete 642421 0 MRI\ndelete 642470 1 SNS\ndelete 642649 0 AI\ndelete 642860 0 UX\ndelete 642861 1 UX\ndelete 642966 0 GOD\ndelete 643070 0 LG\ndelete 643070 1 IT\ndelete 643084 2 IT\ndelete 643106 0 3D\ndelete 643106 1 UI\n"
    }
   ],
   "source": [
    "\"\"\"\n",
    "영어\n",
    "--> 삭제\n",
    "\"\"\"\n",
    "meta_tag_list_tmp = []\n",
    "for i in range(len(meta_tag_list)):\n",
    "    meta_tag_list_tmp.append([])\n",
    "    for j in range(len(meta_tag_list[i])):\n",
    "        if isHangul(meta_tag_list[i][j]) == False:\n",
    "            print(\"delete\", i, j, meta_tag_list[i][j])\n",
    "            continue\n",
    "        meta_tag_list_tmp[i].append(meta_tag_list[i][j])\n"
   ]
  },
  {
   "cell_type": "code",
   "execution_count": 51,
   "metadata": {},
   "outputs": [],
   "source": [
    "\"\"\"\n",
    "wv.vocab에 없는 경우\n",
    "--> 형태소 분석 / 삭제 (우선 삭제 후 진행)\n",
    "\"\"\"\n",
    "metadata_tag = []\n",
    "for i in range(len(meta_tag_list_tmp)):\n",
    "    metadata_tag.append([])\n",
    "    for j in range(len(meta_tag_list_tmp[i])):\n",
    "        if meta_tag_list_tmp[i][j] not in ko_model.wv.vocab:\n",
    "            continue\n",
    "        metadata_tag[i].append(meta_tag_list_tmp[i][j])"
   ]
  },
  {
   "cell_type": "markdown",
   "metadata": {},
   "source": [
    "#### metadata_tag 워드 임배딩"
   ]
  },
  {
   "cell_type": "code",
   "execution_count": 52,
   "metadata": {},
   "outputs": [],
   "source": [
    "for i in range(len(metadata_tag)):\n",
    "    if metadata_tag[i] == []:\n",
    "        continue\n",
    "    # 태그에 있는 단어들을 한번에 vector화\n",
    "    # target_top5_tag: 3차원 tensor형태(3000, 각자 태그 개수, 2000차원벡터)\n",
    "    metadata_tag[i] = torch.Tensor(ko_model.wv[metadata_tag[i]])\n",
    "    "
   ]
  },
  {
   "cell_type": "markdown",
   "metadata": {},
   "source": [
    "1. 타겟 유저 0번의 관심 태그와 글 태그 클러스터간 최단연결 거리 = 해당 유저가 글에 가질 관심도로 간주\n",
    "2. 타겟 유저 0번에 대한 글 643111개 모두 수행.target_read_tag\n",
    "3. 643111에 대한 최단연결 거리들 중 제일 가까운 100개 추천."
   ]
  },
  {
   "cell_type": "code",
   "execution_count": null,
   "metadata": {},
   "outputs": [],
   "source": [
    "# 타겟 글(0번)과 가장 유사한 글 = 4번째 인덱스\n",
    "#similar_index = (np.where(cos_sim[0] == sorted(cos_sim[0])[1]))[0][0]\n",
    "#similar_index"
   ]
  },
  {
   "cell_type": "code",
   "execution_count": 59,
   "metadata": {},
   "outputs": [
    {
     "output_type": "error",
     "ename": "TypeError",
     "evalue": "can't assign a numpy.float32 to a torch.FloatTensor",
     "traceback": [
      "\u001b[0;31m---------------------------------------------------------------------------\u001b[0m",
      "\u001b[0;31mTypeError\u001b[0m                                 Traceback (most recent call last)",
      "\u001b[0;32m<ipython-input-59-cc0b3472eed3>\u001b[0m in \u001b[0;36m<module>\u001b[0;34m\u001b[0m\n\u001b[1;32m      2\u001b[0m \u001b[0;32mfor\u001b[0m \u001b[0mtarget\u001b[0m \u001b[0;32min\u001b[0m \u001b[0mrange\u001b[0m\u001b[0;34m(\u001b[0m\u001b[0;36m1\u001b[0m\u001b[0;34m)\u001b[0m\u001b[0;34m:\u001b[0m\u001b[0;34m\u001b[0m\u001b[0;34m\u001b[0m\u001b[0m\n\u001b[1;32m      3\u001b[0m     \u001b[0;32mfor\u001b[0m \u001b[0mitem\u001b[0m \u001b[0;32min\u001b[0m \u001b[0mrange\u001b[0m\u001b[0;34m(\u001b[0m\u001b[0;36m5\u001b[0m\u001b[0;34m)\u001b[0m\u001b[0;34m:\u001b[0m\u001b[0;34m\u001b[0m\u001b[0;34m\u001b[0m\u001b[0m\n\u001b[0;32m----> 4\u001b[0;31m         \u001b[0mdis\u001b[0m\u001b[0;34m[\u001b[0m\u001b[0mitem\u001b[0m\u001b[0;34m]\u001b[0m \u001b[0;34m=\u001b[0m \u001b[0mnp\u001b[0m\u001b[0;34m.\u001b[0m\u001b[0mamin\u001b[0m\u001b[0;34m(\u001b[0m\u001b[0;36m1\u001b[0m \u001b[0;34m-\u001b[0m \u001b[0mcosine_similarity\u001b[0m\u001b[0;34m(\u001b[0m\u001b[0mtarget_top5_tag\u001b[0m\u001b[0;34m[\u001b[0m\u001b[0mtarget\u001b[0m\u001b[0;34m]\u001b[0m\u001b[0;34m,\u001b[0m \u001b[0mmetadata_tag\u001b[0m\u001b[0;34m[\u001b[0m\u001b[0mitem\u001b[0m\u001b[0;34m]\u001b[0m\u001b[0;34m)\u001b[0m\u001b[0;34m)\u001b[0m\u001b[0;34m\u001b[0m\u001b[0;34m\u001b[0m\u001b[0m\n\u001b[0m",
      "\u001b[0;31mTypeError\u001b[0m: can't assign a numpy.float32 to a torch.FloatTensor"
     ]
    }
   ],
   "source": [
    "dis = torch.zeros(len(metadata_tag))\n",
    "for target in range(1): \n",
    "    for item in range(5):\n",
    "        dis[item] = np.amin(1 - cosine_similarity(target_top5_tag[target], metadata_tag[item]))"
   ]
  },
  {
   "cell_type": "code",
   "execution_count": null,
   "metadata": {},
   "outputs": [],
   "source": [
    "# 비슷한 글 3개 추천\n",
    "similarity_rank_index = []\n",
    "for rank in range(1,100):\n",
    "    similarity_rank_index.append((np.where(cos_sim[0] == sorted(cos_sim[0])[rank]))[0][0])\n",
    "print(similarity_rank_index)"
   ]
  },
  {
   "cell_type": "code",
   "execution_count": null,
   "metadata": {},
   "outputs": [],
   "source": []
  },
  {
   "cell_type": "code",
   "execution_count": 36,
   "metadata": {},
   "outputs": [
    {
     "output_type": "execute_result",
     "data": {
      "text/plain": "array([[ 0.24306536,  0.05163486, -0.2586939 ],\n       [ 0.25922763,  0.16066436, -0.07639411],\n       [ 0.2969677 , -0.06987188, -0.069573  ],\n       [ 0.19989194,  0.08982993, -0.11904066]], dtype=float32)"
     },
     "metadata": {},
     "execution_count": 36
    }
   ],
   "source": [
    "for target in range(len(target_top5_tag)):\n",
    "    for item in range(len(metadata_tag)):\n",
    "        cosine_similarity(target_top5_tag[target], metadata_tag[item])"
   ]
  },
  {
   "cell_type": "code",
   "execution_count": 57,
   "metadata": {},
   "outputs": [],
   "source": [
    "\"\"\" \n",
    "target_df 생성 (users에 없는 user_id 추가) \n",
    ": 매개변수에는 dev_users_list / test_users_list 와 users. \n",
    "\"\"\" \n",
    "def target_df_generator(target_users_list, users):\n",
    "    print('1. target user의 dataframe 생성 중')\n",
    "    target_df = users[users['user_id'].isin(target_users_list)]\n",
    "    \n",
    "    for target_user in target_users_list:\n",
    "        if (target_user in target_df['user_id'].tolist()) == False:\n",
    "            new_df = pd.DataFrame({'following_list':[[]], 'user_id':[target_user], 'keyword_list':[[]]})\n",
    "            target_df = target_df.append(new_df)\n",
    "    \n",
    "    print('target user의 dataframe 생성 완료')\n",
    "    return target_df\n"
   ]
  },
  {
   "cell_type": "code",
   "execution_count": 62,
   "metadata": {},
   "outputs": [],
   "source": [
    "\"\"\"\n",
    "전체 기간동안 target user가 읽은 article 저장\n",
    "\"\"\"\n",
    "def target_read_article(target_df, read):\n",
    "    print('2. 전체 기간동안 target user가 읽은 article 저장 중\\n')\n",
    "\n",
    "    target_read_article = []\n",
    "    for idx in target_df['user_id'].values.tolist(): # user_id한개씩 루프\n",
    "        read_list = read[read['user_id']==idx]\n",
    "        read_list = read_list[read_list['article_id'].str.contains('@')==True]['article_id'].tolist()#해당 user가 읽은 글 목록\n",
    "        target_read_article.append(read_list)\n",
    "\n",
    "    target_df['read'] = target_read_article # 읽은 글 \n",
    "            \n",
    "    print('전체 기간동안 target user가 읽은 article 저장 완료\\n')\n",
    "    return target_df\n"
   ]
  },
  {
   "cell_type": "code",
   "execution_count": 64,
   "metadata": {},
   "outputs": [],
   "source": [
    "users = pd.read_csv('./res/users.csv')\n",
    "read =  pd.read_csv('./res/read.csv')\n",
    "metadata = pd.read_csv('./res/metadata.csv')"
   ]
  },
  {
   "cell_type": "code",
   "execution_count": 179,
   "metadata": {},
   "outputs": [],
   "source": [
    "target_dev = pd.read_csv('./res/target_dev.csv')\n",
    "for i in range(len(target_dev)):\n",
    "    target_dev['read'][i] = re.findall(r\"[\\w@-]+\", target_dev['read'][i])\n",
    "# [xy]: 문자 선택을 표현하며 x 와 y 중에 하나\n",
    "# \\w: word 를 표현하며 알파벳 + 숫자 + _ 중의 한 문자\n",
    "# [\\w']+: (알파벳,숫자,_) + ' + ~ 로 시작하는 것 찾음"
   ]
  },
  {
   "cell_type": "code",
   "execution_count": 181,
   "metadata": {},
   "outputs": [],
   "source": [
    "import re\n",
    "# 우선 recent interest tag를 한 벡터에 다 넣어버림......좀 이상하지만....\n",
    "for i in range(len(target_dev)):\n",
    "    target_dev['recent_interest'][i] = re.compile('[가-힣]+').findall(target_dev['recent_interest'][i]) "
   ]
  },
  {
   "cell_type": "code",
   "execution_count": 515,
   "metadata": {},
   "outputs": [
    {
     "output_type": "execute_result",
     "data": {
      "text/plain": "['연애', '취업', '자소서', '사랑', '에세이']"
     },
     "metadata": {},
     "execution_count": 515
    }
   ],
   "source": []
  },
  {
   "cell_type": "code",
   "execution_count": 184,
   "metadata": {},
   "outputs": [],
   "source": [
    "#10개만 먼저\n",
    "target_dev = target_dev[0:10]"
   ]
  },
  {
   "cell_type": "code",
   "execution_count": 188,
   "metadata": {},
   "outputs": [],
   "source": [
    "target_tag = target_dev['recent_interest'].tolist()\n",
    "#target_tag"
   ]
  },
  {
   "cell_type": "code",
   "execution_count": 189,
   "metadata": {},
   "outputs": [],
   "source": [
    "\"\"\"\n",
    "태그중에 영어 등장 --> 우선 삭제. . .\n",
    "\"\"\"\n",
    "def isHangul(text):\n",
    "    encText = text\n",
    "    hanCount = len(re.findall(u'[\\u3130-\\u318F\\uAC00-\\uD7A3]+', encText))\n",
    "    return hanCount > 0\n",
    "\n",
    "for i in range(len(target_tag)):\n",
    "    for j in range(len(target_tag[i])):\n",
    "        if isHangul(target_tag[i][j]) == False:\n",
    "            del target_tag[i][j]\n",
    "    "
   ]
  },
  {
   "cell_type": "code",
   "execution_count": 191,
   "metadata": {},
   "outputs": [],
   "source": [
    "ko_model = gensim.models.Word2Vec.load('./ko/ko.bin')"
   ]
  },
  {
   "cell_type": "code",
   "execution_count": 197,
   "metadata": {},
   "outputs": [
    {
     "output_type": "execute_result",
     "data": {
      "text/plain": "[['연애', '감정', '사랑', '기획', '회사', '전략', '에세이', '취업', '관계'],\n ['연애', '사랑', '이별', '입학', '준비', '육아', '다람쥐', '선생님', '공작', '드로잉'],\n ['퇴사', '에세이', '에세이', '에세이', '에세이', '회사', '후임'],\n ['심리', '치유', '에세이', '디자인', '표지', '구분', '일요일', '월요일', '내일'],\n ['정리'],\n ['연애', '결혼', '데이트', '결혼식', '사회자', '진심', '연애', '노력', '사랑', '연애', '고백'],\n ['멜론', '키즈', '디자인', '멜론', '페스티벌', '직장', '이직', '회사'],\n ['남자', '쇼핑몰', '패션', '패션', '스타일', '코디', '사람', '직장인', '직장인', '백수'],\n ['자바', '투자', '정부', '애플', '자동차', '인공지능'],\n ['마케팅', '글쓰기', '직장인', '백수', '배달', '직장인']]"
     },
     "metadata": {},
     "execution_count": 197
    }
   ],
   "source": [
    "\"\"\"\n",
    "wv.vocab에 없는 경우\n",
    "--> 형태소 분석 / 삭제 (우선 삭제 후 진행)\n",
    "\"\"\"\n",
    "tags_after=[]\n",
    "for i in range(len(target_tag)):\n",
    "    tags_after.append([])\n",
    "    for j in range(len(target_tag[i])):\n",
    "        if target_tag[i][j] not in ko_model.wv.vocab:\n",
    "            continue\n",
    "        tags_after[i].append(target_tag[i][j])\n",
    "        \n",
    "# 관심 태그 전처리 완료!\n",
    "tags_after"
   ]
  },
  {
   "cell_type": "code",
   "execution_count": 198,
   "metadata": {
    "tags": []
   },
   "outputs": [
    {
     "output_type": "stream",
     "name": "stdout",
     "text": "torch.Size([10, 200])\n"
    }
   ],
   "source": [
    "\"\"\"\n",
    "관심 tag하나하나를 vector, 그 vector들을 모아서 cluster\n",
    "-->중심연결법 사용을 위해 cluster centroid 구함\n",
    "\"\"\"\n",
    "\\\n",
    "for i in range(len(tags_after)):\n",
    "    if tags_after[i] == []:\n",
    "        continue\n",
    "    # 태그에 있는 단어들을 한번에 vector화\n",
    "    tmp = torch.Tensor(ko_model.wv[tags_after[i]])\n",
    "    centroid[i] = tmp.mean(dim=0)\n",
    "    #print(tags_after[i])\n",
    "print(centroid.shape)"
   ]
  },
  {
   "cell_type": "code",
   "execution_count": 200,
   "metadata": {},
   "outputs": [
    {
     "output_type": "execute_result",
     "data": {
      "text/plain": "tensor([[ 0.0348, -0.6137,  0.2684,  ...,  0.0067, -0.1362, -0.2836],\n        [-0.3402, -0.5622,  0.3837,  ...,  0.0986, -0.0289, -0.1762],\n        [-0.3292, -0.8880,  0.2804,  ..., -0.0411, -0.0162, -0.5970],\n        ...,\n        [-0.3842, -0.7099,  0.7794,  ...,  0.4746,  0.5367, -0.6770],\n        [ 0.1950, -0.2473, -0.5680,  ...,  0.1981, -0.4867,  0.0361],\n        [-0.0684, -0.1779,  0.1070,  ...,  0.1344,  0.5994, -0.1948]])"
     },
     "metadata": {},
     "execution_count": 200
    }
   ],
   "source": [
    "# 최단연결법으로 바꾸려고함.\n",
    "\n",
    "# ㅂ베각 클러스터에 n개의 벡터들이 존재하는데,\n",
    "# ㅈ제일 가까운 벡터간 거리를 구하고싶으니까.\n",
    "# ㅇ우선 모든 벡터정보를 갖고있어야함.\n",
    "# ㄱ원래 tags_after와 같은 크기의 이중리스트에 벡터들을 저장--> 삼중리스트가 되겠군.\n",
    "#\n",
    "[# tags_after = '연애', '감정', '사랑', '기획', '회사', '전략', '에세이', '취업', '관계'],\n",
    "#  비교하고자하는 글의 태그item_tags =  ['감정', '마음', '위로']\n",
    "\n",
    "# cos_dis = 1 - cos_sim(tags_after, item_tags) 하나하나 다 계산해서 저장\n",
    "# ㅇcos_dis을 sort한 후, top-k(원래는100인데, 여기서는 우선 3만 해보자)개의 글 아이디만 뽑아내면됨.\n",
    "\n",
    "# gtags)_after 행마다 진행해야할듯 ㅠ 관심 태그 개수가 모두 달라서,,,"
   ]
  },
  {
   "cell_type": "code",
   "execution_count": 204,
   "metadata": {},
   "outputs": [],
   "source": [
    "\n",
    "tags_vector = torch.Tensor(ko_model.wv[tags_after[0]])\n"
   ]
  },
  {
   "cell_type": "code",
   "execution_count": 220,
   "metadata": {},
   "outputs": [
    {
     "output_type": "execute_result",
     "data": {
      "text/plain": "[['여행', '호주', '국립공원'],\n ['동행'],\n [],\n ['감정', '마음', '위로'],\n ['더블린', '아일랜드'],\n ['경제'],\n ['입찰', '유치권'],\n ['사랑', '연애'],\n ['메일', '출판사'],\n ['공부', '동시'],\n ['패션', '에세이', '경제'],\n ['불꽃', '여의도'],\n ['주머니', '동시'],\n ['생각', '과거', '무시'],\n ['단상', '여행', '생각'],\n ['시험'],\n ['사랑', '첫사랑'],\n ['애견'],\n [],\n ['엄마', '취향', '효도'],\n ['대화', '저항'],\n ['여행', '행복'],\n ['버스', '지하철', '친구'],\n ['그림자', '하이에나', '도시'],\n ['창작'],\n ['성과'],\n ['브랜드', '마케팅'],\n ['일자리'],\n ['취업', '사회생활', '결혼'],\n [],\n [],\n ['서울'],\n [],\n ['출판', '교육'],\n ['승리', '추락'],\n ['극장'],\n ['월요일', '스트레스', '회사'],\n ['드라마', '방송'],\n ['아프리카'],\n ['요리', '세네갈'],\n ['샐러드', '음식', '놀이'],\n ['마늘', '여자', '엄마'],\n ['세상', '이해', '생각'],\n [],\n ['회사', '사람', '생각'],\n ['소설', '서평', '페미니즘'],\n ['캐릭터', '드로잉', '그림'],\n [],\n ['일상', '단편'],\n ['비틀즈', '음악', '앨범'],\n ['싱가포르', '이민'],\n ['영화', '매트릭스', '리뷰'],\n ['인문학', '소프트웨어', '융합'],\n [],\n [],\n ['스트레스'],\n ['마약', '서평'],\n ['필리핀'],\n ['운동', '헬스', '건강'],\n ['상표'],\n ['자전거', '잠', '맥주'],\n ['사진', '편집'],\n [],\n ['착각', '성공'],\n ['시', '이별', '위로'],\n [],\n ['상표'],\n ['벌레', '단편'],\n ['장애', '장애인', '가족'],\n ['부동산', '결혼식'],\n ['살구', '어깨', '해설자'],\n ['마음', '향기'],\n ['캠프'],\n ['강원도'],\n ['사회생활', '사회', '눈치'],\n ['사랑', '사람'],\n ['김치', '음식'],\n ['동시'],\n ['웹툰'],\n [],\n ['유형', '관계', '사람'],\n ['사막', '흐름', '독백'],\n ['미술관', '톨레도', '디트로이트'],\n [],\n ['계절', '패션', '에세이'],\n ['주부', '작가', '직업'],\n ['트렌드', '스타일'],\n [],\n ['편의점', '커피', '담배'],\n ['창업', '인사'],\n ['여행', '사람', '북유럽'],\n ['분홍', '워드', '마음'],\n ['딸기'],\n ['음악', '일본'],\n ['프랑스'],\n ['해외'],\n ['동시', '동화'],\n ['영화'],\n ['슬픔', '사랑'],\n ['엔지니어링', '매니저']]"
     },
     "metadata": {},
     "execution_count": 220
    }
   ],
   "source": [
    "# item의 태그\n",
    "tags_after\n"
   ]
  },
  {
   "cell_type": "code",
   "execution_count": 222,
   "metadata": {},
   "outputs": [
    {
     "output_type": "error",
     "ename": "RuntimeError",
     "evalue": "expand(torch.FloatTensor{[3, 200]}, size=[200]): the number of sizes provided (1) must be greater or equal to the number of dimensions in the tensor (2)",
     "traceback": [
      "\u001b[0;31m---------------------------------------------------------------------------\u001b[0m",
      "\u001b[0;31mRuntimeError\u001b[0m                              Traceback (most recent call last)",
      "\u001b[0;32m<ipython-input-222-e76f6d24b183>\u001b[0m in \u001b[0;36m<module>\u001b[0;34m\u001b[0m\n\u001b[1;32m      5\u001b[0m         \u001b[0;32mcontinue\u001b[0m\u001b[0;34m\u001b[0m\u001b[0;34m\u001b[0m\u001b[0m\n\u001b[1;32m      6\u001b[0m     \u001b[0;31m# 태그에 있는 단어들을 한번에 vector화\u001b[0m\u001b[0;34m\u001b[0m\u001b[0;34m\u001b[0m\u001b[0;34m\u001b[0m\u001b[0m\n\u001b[0;32m----> 7\u001b[0;31m     \u001b[0mtag_item\u001b[0m\u001b[0;34m[\u001b[0m\u001b[0mi\u001b[0m\u001b[0;34m]\u001b[0m \u001b[0;34m=\u001b[0m \u001b[0mtorch\u001b[0m\u001b[0;34m.\u001b[0m\u001b[0mTensor\u001b[0m\u001b[0;34m(\u001b[0m\u001b[0mko_model\u001b[0m\u001b[0;34m.\u001b[0m\u001b[0mwv\u001b[0m\u001b[0;34m[\u001b[0m\u001b[0mtags_after\u001b[0m\u001b[0;34m[\u001b[0m\u001b[0mi\u001b[0m\u001b[0;34m]\u001b[0m\u001b[0;34m]\u001b[0m\u001b[0;34m)\u001b[0m\u001b[0;34m\u001b[0m\u001b[0;34m\u001b[0m\u001b[0m\n\u001b[0m",
      "\u001b[0;31mRuntimeError\u001b[0m: expand(torch.FloatTensor{[3, 200]}, size=[200]): the number of sizes provided (1) must be greater or equal to the number of dimensions in the tensor (2)"
     ]
    }
   ],
   "source": [
    "\n",
    "tag_item = torch.zeros(len(tags_after), 200)\n",
    "\n",
    "for i in range(len(tags_after)):\n",
    "    if tags_after[i] == []:\n",
    "        continue\n",
    "    # 태그에 있는 단어들을 한번에 vector화\n",
    "    tag_item[i] = torch.Tensor(ko_model.wv[tags_after[i]])\n"
   ]
  },
  {
   "cell_type": "code",
   "execution_count": 224,
   "metadata": {},
   "outputs": [],
   "source": [
    "tag_item0 = torch.Tensor(ko_model.wv[tags_after[0]])"
   ]
  },
  {
   "cell_type": "code",
   "execution_count": 234,
   "metadata": {},
   "outputs": [],
   "source": [
    "\"\"\"\n",
    "pairwise하게 유사도 계산해서 제일 가까운걸로 선택.\n",
    "\"\"\"\n",
    "pairwise_cos = 1 - cosine_similarity(tags_vector,tag_item0)"
   ]
  },
  {
   "cell_type": "code",
   "execution_count": 240,
   "metadata": {},
   "outputs": [
    {
     "output_type": "execute_result",
     "data": {
      "text/plain": "array([[ 0.24306536,  0.05163486, -0.2586939 ],\n       [ 0.09060258, -0.14001034, -0.07869197],\n       [ 0.2969677 , -0.06987188, -0.069573  ],\n       [ 0.09351079,  0.01961989, -0.01891658],\n       [ 0.12378131,  0.18405223,  0.05976969],\n       [ 0.02614605,  0.04482384,  0.04429719],\n       [ 0.19989194,  0.08982993, -0.11904066],\n       [ 0.25922763,  0.16066436, -0.07639411],\n       [-0.00725169,  0.13895418, -0.1298497 ]], dtype=float32)"
     },
     "metadata": {},
     "execution_count": 240
    }
   ],
   "source": [
    "cosine_similarity(tags_vector,tag_item0)"
   ]
  },
  {
   "cell_type": "code",
   "execution_count": 237,
   "metadata": {},
   "outputs": [
    {
     "output_type": "execute_result",
     "data": {
      "text/plain": "0.7030323"
     },
     "metadata": {},
     "execution_count": 237
    }
   ],
   "source": [
    "np.amin(pairwise_cos) # 이게 그럼 0번 유저의 인터레스트와 0번 아이템의 거리. 이걸 n번 아이템까지 반복하고 제일 가까운 k개 아이템을 추천해주면 될듯."
   ]
  },
  {
   "cell_type": "code",
   "execution_count": 236,
   "metadata": {},
   "outputs": [
    {
     "output_type": "execute_result",
     "data": {
      "text/plain": "(array([2]), array([0]))"
     },
     "metadata": {},
     "execution_count": 236
    }
   ],
   "source": [
    "np.where(pairwise_cos == np.amin(pairwise_cos)) "
   ]
  },
  {
   "cell_type": "code",
   "execution_count": null,
   "metadata": {},
   "outputs": [],
   "source": []
  }
 ]
}